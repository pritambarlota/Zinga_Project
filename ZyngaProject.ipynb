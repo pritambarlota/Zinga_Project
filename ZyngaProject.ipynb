{
 "cells": [
  {
   "cell_type": "code",
   "execution_count": 1,
   "metadata": {},
   "outputs": [
    {
     "name": "stderr",
     "output_type": "stream",
     "text": [
      "C:\\Users\\prita\\Anaconda3\\lib\\site-packages\\sklearn\\cross_validation.py:41: DeprecationWarning: This module was deprecated in version 0.18 in favor of the model_selection module into which all the refactored classes and functions are moved. Also note that the interface of the new CV iterators are different from that of this module. This module will be removed in 0.20.\n",
      "  \"This module will be removed in 0.20.\", DeprecationWarning)\n"
     ]
    }
   ],
   "source": [
    "# Importing the libraries\n",
    "import sys\n",
    "import numpy as np\n",
    "import pandas as pd\n",
    "from time import time\n",
    "import matplotlib.pyplot as plt\n",
    "from sklearn.preprocessing import StandardScaler\n",
    "from sklearn.cross_validation import train_test_split\n",
    "\n",
    "from sklearn.metrics import confusion_matrix\n",
    "from sklearn.metrics import classification_report\n",
    "from sklearn.metrics import accuracy_score\n",
    "from sklearn.metrics import roc_auc_score\n",
    "from sklearn.metrics import log_loss\n",
    "from sklearn.metrics import zero_one_loss\n",
    "from sklearn.metrics import f1_score\n",
    "\n",
    "from sklearn.linear_model import LogisticRegression\n",
    "from sklearn.tree import DecisionTreeClassifier\n",
    "from sklearn.ensemble import RandomForestClassifier\n",
    "#from xgboost import XGBClassifier\n",
    "from sklearn.ensemble import GradientBoostingClassifier\n",
    "\n",
    "from sklearn.model_selection import cross_val_score\n",
    "from sklearn.model_selection import KFold \n",
    "\n",
    "from pandas.plotting import scatter_matrix\n",
    "%matplotlib inline"
   ]
  },
  {
   "cell_type": "code",
   "execution_count": 2,
   "metadata": {
    "collapsed": true
   },
   "outputs": [],
   "source": [
    "## Step 1 - Data collection : Download the data\n",
    "user = pd.read_csv(\"C:\\PritamData\\Zynga\\Website_VIP_User_data_10000.csv\")"
   ]
  },
  {
   "cell_type": "code",
   "execution_count": 3,
   "metadata": {
    "collapsed": true
   },
   "outputs": [],
   "source": [
    "#Removing ID column as its not needed\n",
    "user = user.iloc[0:10001 , 1:11]"
   ]
  },
  {
   "cell_type": "code",
   "execution_count": 4,
   "metadata": {},
   "outputs": [
    {
     "name": "stdout",
     "output_type": "stream",
     "text": [
      "\n",
      "Few rows from dataset\n"
     ]
    },
    {
     "data": {
      "text/html": [
       "<div>\n",
       "<style>\n",
       "    .dataframe thead tr:only-child th {\n",
       "        text-align: right;\n",
       "    }\n",
       "\n",
       "    .dataframe thead th {\n",
       "        text-align: left;\n",
       "    }\n",
       "\n",
       "    .dataframe tbody tr th {\n",
       "        vertical-align: top;\n",
       "    }\n",
       "</style>\n",
       "<table border=\"1\" class=\"dataframe\">\n",
       "  <thead>\n",
       "    <tr style=\"text-align: right;\">\n",
       "      <th></th>\n",
       "      <th>IsVIP_500</th>\n",
       "      <th>payment_7_day</th>\n",
       "      <th>dau_days</th>\n",
       "      <th>days_between_install_first_pay</th>\n",
       "      <th>total_txns_7_day</th>\n",
       "      <th>total_page_views</th>\n",
       "      <th>total_product_liked</th>\n",
       "      <th>product_like_rate</th>\n",
       "      <th>total_free_coupon_got</th>\n",
       "      <th>total_bonus_xp_points</th>\n",
       "    </tr>\n",
       "  </thead>\n",
       "  <tbody>\n",
       "    <tr>\n",
       "      <th>0</th>\n",
       "      <td>0</td>\n",
       "      <td>15.98</td>\n",
       "      <td>6</td>\n",
       "      <td>8</td>\n",
       "      <td>3</td>\n",
       "      <td>266</td>\n",
       "      <td>95</td>\n",
       "      <td>0.357143</td>\n",
       "      <td>9</td>\n",
       "      <td>1275000</td>\n",
       "    </tr>\n",
       "    <tr>\n",
       "      <th>1</th>\n",
       "      <td>0</td>\n",
       "      <td>8.48</td>\n",
       "      <td>7</td>\n",
       "      <td>372</td>\n",
       "      <td>3</td>\n",
       "      <td>484</td>\n",
       "      <td>118</td>\n",
       "      <td>0.243802</td>\n",
       "      <td>15</td>\n",
       "      <td>1346100</td>\n",
       "    </tr>\n",
       "    <tr>\n",
       "      <th>2</th>\n",
       "      <td>0</td>\n",
       "      <td>3.49</td>\n",
       "      <td>7</td>\n",
       "      <td>439</td>\n",
       "      <td>2</td>\n",
       "      <td>504</td>\n",
       "      <td>151</td>\n",
       "      <td>0.299603</td>\n",
       "      <td>10</td>\n",
       "      <td>863400</td>\n",
       "    </tr>\n",
       "    <tr>\n",
       "      <th>3</th>\n",
       "      <td>0</td>\n",
       "      <td>3.99</td>\n",
       "      <td>7</td>\n",
       "      <td>570</td>\n",
       "      <td>2</td>\n",
       "      <td>513</td>\n",
       "      <td>165</td>\n",
       "      <td>0.321637</td>\n",
       "      <td>13</td>\n",
       "      <td>2050200</td>\n",
       "    </tr>\n",
       "    <tr>\n",
       "      <th>4</th>\n",
       "      <td>0</td>\n",
       "      <td>38.00</td>\n",
       "      <td>3</td>\n",
       "      <td>1741</td>\n",
       "      <td>4</td>\n",
       "      <td>31</td>\n",
       "      <td>6</td>\n",
       "      <td>0.193548</td>\n",
       "      <td>7</td>\n",
       "      <td>3133500</td>\n",
       "    </tr>\n",
       "  </tbody>\n",
       "</table>\n",
       "</div>"
      ],
      "text/plain": [
       "   IsVIP_500  payment_7_day  dau_days  days_between_install_first_pay  \\\n",
       "0          0          15.98         6                               8   \n",
       "1          0           8.48         7                             372   \n",
       "2          0           3.49         7                             439   \n",
       "3          0           3.99         7                             570   \n",
       "4          0          38.00         3                            1741   \n",
       "\n",
       "   total_txns_7_day  total_page_views  total_product_liked  product_like_rate  \\\n",
       "0                 3               266                   95           0.357143   \n",
       "1                 3               484                  118           0.243802   \n",
       "2                 2               504                  151           0.299603   \n",
       "3                 2               513                  165           0.321637   \n",
       "4                 4                31                    6           0.193548   \n",
       "\n",
       "   total_free_coupon_got  total_bonus_xp_points  \n",
       "0                      9                1275000  \n",
       "1                     15                1346100  \n",
       "2                     10                 863400  \n",
       "3                     13                2050200  \n",
       "4                      7                3133500  "
      ]
     },
     "execution_count": 4,
     "metadata": {},
     "output_type": "execute_result"
    }
   ],
   "source": [
    "## Step 2: Data exploration and preparation : Exploring and preparing the data ---- \n",
    "print(\"\\nFew rows from dataset\")\n",
    "user.head(5)"
   ]
  },
  {
   "cell_type": "code",
   "execution_count": 5,
   "metadata": {},
   "outputs": [
    {
     "name": "stdout",
     "output_type": "stream",
     "text": [
      "\n",
      "No of rows and columns in dataset\n",
      "(10001, 10)\n",
      "\n",
      "Datatypes of features\n",
      "IsVIP_500                           int64\n",
      "payment_7_day                     float64\n",
      "dau_days                            int64\n",
      "days_between_install_first_pay      int64\n",
      "total_txns_7_day                    int64\n",
      "total_page_views                    int64\n",
      "total_product_liked                 int64\n",
      "product_like_rate                 float64\n",
      "total_free_coupon_got               int64\n",
      "total_bonus_xp_points               int64\n",
      "dtype: object\n",
      "\n",
      "Lenght of Dataset : \n",
      "10001\n"
     ]
    }
   ],
   "source": [
    "print(\"\\nNo of rows and columns in dataset\")\n",
    "print(user.shape)                                                          ## No of rows and columns\n",
    "print(\"\\nDatatypes of features\")\n",
    "print(user.dtypes)                                                                ## Structure\n",
    "print(\"\\nLenght of Dataset : \") \n",
    "print(len(user.IsVIP_500))\n",
    "\n",
    "\n",
    "#print(\"\\nDatatypes of features\")\n",
    "#print(user.dtypes) "
   ]
  },
  {
   "cell_type": "code",
   "execution_count": 6,
   "metadata": {},
   "outputs": [
    {
     "name": "stdout",
     "output_type": "stream",
     "text": [
      "Count of class in target variable IsVIP_500\n",
      "IsVIP_500\n",
      "0    9846\n",
      "1     155\n",
      "dtype: int64\n",
      "\n",
      "Proportion of class in target variable IsVIP_500\n",
      "0    98.450155\n",
      "1     1.549845\n",
      "Name: IsVIP_500, dtype: float64\n"
     ]
    },
    {
     "data": {
      "text/plain": [
       "<matplotlib.axes._subplots.AxesSubplot at 0x291bc713400>"
      ]
     },
     "execution_count": 6,
     "metadata": {},
     "output_type": "execute_result"
    },
    {
     "data": {
      "image/png": "[encoded data removed]",
      "text/plain": [
       "<matplotlib.figure.Figure at 0x291bc6ddac8>"
      ]
     },
     "metadata": {},
     "output_type": "display_data"
    }
   ],
   "source": [
    "#seperate the features and target\n",
    "X = user.iloc[:,1:10]\n",
    "y = user.iloc[:,0]\n",
    "# Dropping product_like_rate column as its duplicate information column which may lead to cause overfitting due to multicollinearity\n",
    "user=user.drop('product_like_rate', axis=1)\n",
    "print(\"Count of class in target variable IsVIP_500\")\n",
    "print(user.groupby('IsVIP_500').size())                                  ## count\n",
    "print(\"\\nProportion of class in target variable IsVIP_500\")\n",
    "print(y.value_counts() / (len(user.IsVIP_500)) * 100)   \n",
    "y.value_counts().plot(kind='bar')   "
   ]
  },
  {
   "cell_type": "markdown",
   "metadata": {},
   "source": [
    "As we can see here from barplot that the proportion of class in target variable is not even. The majority of class which is 98.45% of the customers are not VIP. This indicates highly imbalanced data."
   ]
  },
  {
   "cell_type": "code",
   "execution_count": 7,
   "metadata": {},
   "outputs": [
    {
     "name": "stdout",
     "output_type": "stream",
     "text": [
      "\n",
      "Summary of Numeric Variables\n",
      "\n",
      "       payment_7_day      dau_days  days_between_install_first_pay  \\\n",
      "count   10001.000000  10001.000000                    10001.000000   \n",
      "mean       21.732978      4.725127                      645.522248   \n",
      "std        28.614734      2.193795                      867.677542   \n",
      "min         1.510000      1.000000                        1.000000   \n",
      "25%         7.150000      3.000000                       17.000000   \n",
      "50%        11.990000      5.000000                       97.000000   \n",
      "75%        22.860000      7.000000                     1226.000000   \n",
      "max       208.930000      7.000000                     3242.000000   \n",
      "\n",
      "       total_txns_7_day  total_page_views  total_product_liked  \\\n",
      "count      10001.000000      10001.000000         10001.000000   \n",
      "mean           3.254975        375.029397            94.568943   \n",
      "std            2.228897        534.204200           156.700696   \n",
      "min            2.000000         -9.000000           -19.000000   \n",
      "25%            2.000000         56.000000             2.000000   \n",
      "50%            3.000000        187.000000            39.000000   \n",
      "75%            3.000000        478.000000           122.000000   \n",
      "max           83.000000       7620.000000          2151.000000   \n",
      "\n",
      "       product_like_rate  total_free_coupon_got  total_bonus_xp_points  \n",
      "count       1.000100e+04           10001.000000           1.000100e+04  \n",
      "mean                -inf               6.819018           7.457103e+05  \n",
      "std                  NaN               7.429485           9.371288e+05  \n",
      "min                 -inf               0.000000           0.000000e+00  \n",
      "25%         1.107383e-01               2.000000           1.260000e+05  \n",
      "50%         2.159624e-01               6.000000           5.310000e+05  \n",
      "75%         2.854220e-01              11.000000           1.122000e+06  \n",
      "max         1.900000e+01             331.000000           3.901410e+07  \n"
     ]
    }
   ],
   "source": [
    "### Univariate Analysis\n",
    "print(\"\\nSummary of Numeric Variables\\n\")\n",
    "print(X.describe(include=[np.number]))       "
   ]
  },
  {
   "cell_type": "markdown",
   "metadata": {},
   "source": [
    "As the datatype of all features numeric, the describe() will provide the summary statistics for all features.\n",
    "Describe() also helps to find missing values. As we can see the count for all variables are same, means no missing values in any column of the dataset."
   ]
  },
  {
   "cell_type": "code",
   "execution_count": 8,
   "metadata": {},
   "outputs": [
    {
     "name": "stdout",
     "output_type": "stream",
     "text": [
      "\tCheck any Null values :\n",
      "payment_7_day                     0\n",
      "dau_days                          0\n",
      "days_between_install_first_pay    0\n",
      "total_txns_7_day                  0\n",
      "total_page_views                  0\n",
      "total_product_liked               0\n",
      "product_like_rate                 0\n",
      "total_free_coupon_got             0\n",
      "total_bonus_xp_points             0\n",
      "dtype: int64\n",
      "\n",
      "\tCheck if all Finite values :\n",
      "IsVIP_500                         10001\n",
      "payment_7_day                     10001\n",
      "dau_days                          10001\n",
      "days_between_install_first_pay    10001\n",
      "total_txns_7_day                  10001\n",
      "total_page_views                  10001\n",
      "total_product_liked               10001\n",
      "total_free_coupon_got             10001\n",
      "total_bonus_xp_points             10001\n",
      "dtype: int64\n",
      "\n",
      "\tCheck any NaN values :\n",
      "payment_7_day                     0\n",
      "dau_days                          0\n",
      "days_between_install_first_pay    0\n",
      "total_txns_7_day                  0\n",
      "total_page_views                  0\n",
      "total_product_liked               0\n",
      "product_like_rate                 0\n",
      "total_free_coupon_got             0\n",
      "total_bonus_xp_points             0\n",
      "dtype: int64\n"
     ]
    }
   ],
   "source": [
    "#   Data Munging - Data Cleaning\n",
    "#   Options-  1. Remove rows with missing data from dataset Or\n",
    "#             2. Impute missing values with mean values in your dataset.\n",
    "print(\"\\tCheck any Null values :\")\n",
    "print(X.isnull().sum())\n",
    "print(\"\\n\\tCheck if all Finite values :\")\n",
    "print(np.isfinite(user).sum())\n",
    "print(\"\\n\\tCheck any NaN values :\")\n",
    "print(np.isnan(X).sum())"
   ]
  },
  {
   "cell_type": "markdown",
   "metadata": {},
   "source": [
    "There are 40 infinite values in \"product_like_rate\" which needs to be converted to finite \n"
   ]
  },
  {
   "cell_type": "code",
   "execution_count": 9,
   "metadata": {},
   "outputs": [
    {
     "name": "stdout",
     "output_type": "stream",
     "text": [
      "\n",
      "Check if all Finite values :\n",
      "\n",
      "payment_7_day                     10001\n",
      "dau_days                          10001\n",
      "days_between_install_first_pay    10001\n",
      "total_txns_7_day                  10001\n",
      "total_page_views                  10001\n",
      "total_product_liked               10001\n",
      "product_like_rate                 10001\n",
      "total_free_coupon_got             10001\n",
      "total_bonus_xp_points             10001\n",
      "dtype: int64\n",
      "\n",
      "Null using Lambda\n",
      "payment_7_day                     0\n",
      "dau_days                          0\n",
      "days_between_install_first_pay    0\n",
      "total_txns_7_day                  0\n",
      "total_page_views                  0\n",
      "total_product_liked               0\n",
      "product_like_rate                 0\n",
      "total_free_coupon_got             0\n",
      "total_bonus_xp_points             0\n",
      "dtype: int64\n"
     ]
    }
   ],
   "source": [
    "X=X.replace([np.inf, -np.inf], 0)                        ## Code to replace any infinite number with NaN\n",
    "X=X.replace(np.nan, 0)  \n",
    "\n",
    "#print(\"\\nCheck any Null values :\\n\", X.isnull().sum())\n",
    "print(\"\\nCheck if all Finite values :\\n\")\n",
    "print(np.isfinite(X).sum())\n",
    "\n",
    "#print(\"\\nCheck any NaN values :\\n\", np.isnan(X).sum())\n",
    "print(\"\\nNull using Lambda\")\n",
    "print(X.apply(lambda x: sum(x.isnull()),axis=0)) "
   ]
  },
  {
   "cell_type": "markdown",
   "metadata": {},
   "source": [
    "The feature 'product_like_rate' contains 40 infinite values, which are replaced with 0 now"
   ]
  },
  {
   "cell_type": "markdown",
   "metadata": {},
   "source": [
    "##### Visualizations to Find Outliers if any  OR Univariate Plots"
   ]
  },
  {
   "cell_type": "code",
   "execution_count": 10,
   "metadata": {},
   "outputs": [
    {
     "data": {
      "text/plain": [
       "Text(0.5,0,'payment_7_day')"
      ]
     },
     "execution_count": 10,
     "metadata": {},
     "output_type": "execute_result"
    },
    {
     "data": {
      "image/png": "[encoded data removed]",
      "text/plain": [
       "<matplotlib.figure.Figure at 0x291bc866c18>"
      ]
     },
     "metadata": {},
     "output_type": "display_data"
    }
   ],
   "source": [
    "#  Draw a box plot for payment_7_day variable\n",
    "#  Do you suspect any outliers in payment_7_day ?\n",
    "\n",
    "payment_7_day = X.iloc[:,0]\n",
    "plt.boxplot(payment_7_day)\n",
    "plt.xlabel(\"payment_7_day\")"
   ]
  },
  {
   "cell_type": "markdown",
   "metadata": {},
   "source": [
    "There are definately outliers in the payment_7_day feature"
   ]
  },
  {
   "cell_type": "code",
   "execution_count": 11,
   "metadata": {},
   "outputs": [
    {
     "name": "stdout",
     "output_type": "stream",
     "text": [
      "\n",
      "Get relevant percentiles and see their distribution\n"
     ]
    },
    {
     "data": {
      "text/plain": [
       "0.0      1.51\n",
       "0.1      4.49\n",
       "0.2      6.49\n",
       "0.3      7.99\n",
       "0.4      9.99\n",
       "0.5     11.99\n",
       "0.6     14.00\n",
       "0.7     18.01\n",
       "0.8     27.93\n",
       "0.9     50.99\n",
       "1.0    208.93\n",
       "Name: payment_7_day, dtype: float64"
      ]
     },
     "execution_count": 11,
     "metadata": {},
     "output_type": "execute_result"
    }
   ],
   "source": [
    "print(\"\\nGet relevant percentiles and see their distribution\")\n",
    "payment_7_day.quantile([0, 0.1, 0.2, 0.3, 0.4, 0.5, 0.6, 0.7, 0.8, 0.9, 1])"
   ]
  },
  {
   "cell_type": "code",
   "execution_count": 12,
   "metadata": {},
   "outputs": [
    {
     "data": {
      "text/plain": [
       "Text(0.5,0,'payment_7_day')"
      ]
     },
     "execution_count": 12,
     "metadata": {},
     "output_type": "execute_result"
    },
    {
     "data": {
      "image/png": "[encoded data removed]",
      "text/plain": [
       "<matplotlib.figure.Figure at 0x291bca85cc0>"
      ]
     },
     "metadata": {},
     "output_type": "display_data"
    }
   ],
   "source": [
    "plt.hist(payment_7_day, alpha=0.5, bins=50 )\n",
    "plt.xlabel(\"payment_7_day\")"
   ]
  },
  {
   "cell_type": "markdown",
   "metadata": {},
   "source": [
    "The histogram indicates that the dsitribution of payment_7_day is highly (left) skewed"
   ]
  },
  {
   "cell_type": "code",
   "execution_count": 13,
   "metadata": {},
   "outputs": [
    {
     "name": "stdout",
     "output_type": "stream",
     "text": [
      "\n",
      "Frequency of Days of Customer Login\n",
      "\n",
      "7    3420\n",
      "6    1343\n",
      "1    1213\n",
      "2    1089\n",
      "5    1042\n",
      "4     975\n",
      "3     919\n",
      "Name: dau_days, dtype: int64\n"
     ]
    },
    {
     "data": {
      "text/plain": [
       "Text(0.5,0,'Days of Customer Login')"
      ]
     },
     "execution_count": 13,
     "metadata": {},
     "output_type": "execute_result"
    },
    {
     "data": {
      "image/png": "[encoded data removed]",
      "text/plain": [
       "<matplotlib.figure.Figure at 0x291bca2b898>"
      ]
     },
     "metadata": {},
     "output_type": "display_data"
    }
   ],
   "source": [
    "print(\"\\nFrequency of Days of Customer Login\\n\")\n",
    "print(X.iloc[:,1].value_counts()) \n",
    "\n",
    "X.iloc[:,1].value_counts().plot(kind='bar')\n",
    "plt.xlabel(\"Days of Customer Login\")"
   ]
  },
  {
   "cell_type": "code",
   "execution_count": 14,
   "metadata": {},
   "outputs": [
    {
     "data": {
      "text/plain": [
       "Text(0.5,0,'No_of_active_days')"
      ]
     },
     "execution_count": 14,
     "metadata": {},
     "output_type": "execute_result"
    },
    {
     "data": {
      "image/png": "[encoded data removed]",
      "text/plain": [
       "<matplotlib.figure.Figure at 0x291bcaa06a0>"
      ]
     },
     "metadata": {},
     "output_type": "display_data"
    }
   ],
   "source": [
    "No_of_active_days = X.iloc[:,2]\n",
    "#No_of_active_days.plot.box()\n",
    "plt.boxplot(No_of_active_days)\n",
    "plt.xlabel(\"No_of_active_days\")"
   ]
  },
  {
   "cell_type": "code",
   "execution_count": 15,
   "metadata": {},
   "outputs": [
    {
     "data": {
      "text/plain": [
       "Text(0.5,0,'No_of_active_days')"
      ]
     },
     "execution_count": 15,
     "metadata": {},
     "output_type": "execute_result"
    },
    {
     "data": {
      "image/png": "[encoded data removed]",
      "text/plain": [
       "<matplotlib.figure.Figure at 0x291bcf678d0>"
      ]
     },
     "metadata": {},
     "output_type": "display_data"
    }
   ],
   "source": [
    "No_of_active_days.plot(kind='hist', alpha=0.5, bins=50)\n",
    "plt.xlabel(\"No_of_active_days\")"
   ]
  },
  {
   "cell_type": "markdown",
   "metadata": {},
   "source": [
    "Here we observe that there are few extreme values . \n",
    "This is also the reason why 50 bins are required to depict the distribution clearly.\n",
    "This confirms the presence of a lot of outliers/extreme values."
   ]
  },
  {
   "cell_type": "code",
   "execution_count": 16,
   "metadata": {},
   "outputs": [
    {
     "name": "stdout",
     "output_type": "stream",
     "text": [
      "\n",
      "Frequency of total Transactions in 7 days\n",
      "\n",
      "3     4201\n",
      "2     3464\n",
      "4     1188\n",
      "5      473\n",
      "6      253\n",
      "7      128\n",
      "8       88\n",
      "9       43\n",
      "10      35\n",
      "11      27\n",
      "13      23\n",
      "12      20\n",
      "14      15\n",
      "16       7\n",
      "17       5\n",
      "15       5\n",
      "18       4\n",
      "23       4\n",
      "19       3\n",
      "20       2\n",
      "21       2\n",
      "29       2\n",
      "24       2\n",
      "28       1\n",
      "44       1\n",
      "41       1\n",
      "25       1\n",
      "80       1\n",
      "22       1\n",
      "83       1\n",
      "Name: total_txns_7_day, dtype: int64\n",
      "\n",
      "Get relevant percentiles and see their distribution\n"
     ]
    },
    {
     "data": {
      "text/plain": [
       "0.0     2.0\n",
       "0.1     2.0\n",
       "0.2     2.0\n",
       "0.3     2.0\n",
       "0.4     3.0\n",
       "0.5     3.0\n",
       "0.6     3.0\n",
       "0.7     3.0\n",
       "0.8     4.0\n",
       "0.9     5.0\n",
       "1.0    83.0\n",
       "Name: total_txns_7_day, dtype: float64"
      ]
     },
     "execution_count": 16,
     "metadata": {},
     "output_type": "execute_result"
    }
   ],
   "source": [
    "total_trans = X.iloc[:,3]\n",
    "print(\"\\nFrequency of total Transactions in 7 days\\n\")\n",
    "print(total_trans.value_counts()) \n",
    "\n",
    "print(\"\\nGet relevant percentiles and see their distribution\")\n",
    "total_trans.quantile([0, 0.1, 0.2, 0.3, 0.4, 0.5, 0.6, 0.7, 0.8, 0.9, 1])"
   ]
  },
  {
   "cell_type": "code",
   "execution_count": 17,
   "metadata": {},
   "outputs": [
    {
     "data": {
      "text/plain": [
       "Text(0.5,0,'Total transactions in 7 days')"
      ]
     },
     "execution_count": 17,
     "metadata": {},
     "output_type": "execute_result"
    },
    {
     "data": {
      "image/png": "[encoded data removed]",
      "text/plain": [
       "<matplotlib.figure.Figure at 0x291bcf99ba8>"
      ]
     },
     "metadata": {},
     "output_type": "display_data"
    }
   ],
   "source": [
    "total_trans.value_counts().plot(kind='bar')\n",
    "plt.xlabel(\"Total transactions in 7 days\")"
   ]
  },
  {
   "cell_type": "code",
   "execution_count": 18,
   "metadata": {},
   "outputs": [
    {
     "data": {
      "text/plain": [
       "Text(0.5,0,'Total page views')"
      ]
     },
     "execution_count": 18,
     "metadata": {},
     "output_type": "execute_result"
    },
    {
     "data": {
      "image/png": "[encoded data removed]",
      "text/plain": [
       "<matplotlib.figure.Figure at 0x291bd041860>"
      ]
     },
     "metadata": {},
     "output_type": "display_data"
    }
   ],
   "source": [
    "total_page_views = X.iloc[:,4]\n",
    "plt.boxplot(total_page_views)\n",
    "plt.xlabel(\"Total page views\")"
   ]
  },
  {
   "cell_type": "code",
   "execution_count": 19,
   "metadata": {},
   "outputs": [
    {
     "name": "stdout",
     "output_type": "stream",
     "text": [
      "Distribution of total page views\n"
     ]
    },
    {
     "data": {
      "text/plain": [
       "0.0      -9.0\n",
       "0.1       8.0\n",
       "0.2      38.0\n",
       "0.3      75.0\n",
       "0.4     125.0\n",
       "0.5     187.0\n",
       "0.6     270.0\n",
       "0.7     392.0\n",
       "0.8     586.0\n",
       "0.9     965.0\n",
       "1.0    7620.0\n",
       "Name: total_page_views, dtype: float64"
      ]
     },
     "execution_count": 19,
     "metadata": {},
     "output_type": "execute_result"
    }
   ],
   "source": [
    "print(\"Distribution of total page views\")\n",
    "total_page_views.quantile([0, 0.1, 0.2, 0.3, 0.4, 0.5, 0.6, 0.7, 0.8, 0.9, 1])"
   ]
  },
  {
   "cell_type": "code",
   "execution_count": 20,
   "metadata": {},
   "outputs": [
    {
     "data": {
      "text/plain": [
       "Text(0.5,0,'Total page views')"
      ]
     },
     "execution_count": 20,
     "metadata": {},
     "output_type": "execute_result"
    },
    {
     "data": {
      "image/png": "[encoded data removed]",
      "text/plain": [
       "<matplotlib.figure.Figure at 0x291bce84ac8>"
      ]
     },
     "metadata": {},
     "output_type": "display_data"
    }
   ],
   "source": [
    "plt.hist(total_page_views, alpha=0.5, bins=50 )\n",
    "plt.xlabel(\"Total page views\")"
   ]
  },
  {
   "cell_type": "code",
   "execution_count": 21,
   "metadata": {},
   "outputs": [
    {
     "data": {
      "text/plain": [
       "Text(0.5,0,'Total product liked')"
      ]
     },
     "execution_count": 21,
     "metadata": {},
     "output_type": "execute_result"
    },
    {
     "data": {
      "image/png": "[encoded data removed]",
      "text/plain": [
       "<matplotlib.figure.Figure at 0x291bd2497b8>"
      ]
     },
     "metadata": {},
     "output_type": "display_data"
    }
   ],
   "source": [
    "total_product_liked = X.iloc[:,5]\n",
    "plt.boxplot(total_product_liked)\n",
    "plt.xlabel(\"Total product liked\")"
   ]
  },
  {
   "cell_type": "code",
   "execution_count": 22,
   "metadata": {},
   "outputs": [
    {
     "name": "stdout",
     "output_type": "stream",
     "text": [
      "Distribution of total product liked\n"
     ]
    },
    {
     "data": {
      "text/plain": [
       "0.0     -19.0\n",
       "0.1     -11.0\n",
       "0.2      -3.0\n",
       "0.3       8.0\n",
       "0.4      21.0\n",
       "0.5      39.0\n",
       "0.6      63.0\n",
       "0.7      99.0\n",
       "0.8     154.0\n",
       "0.9     262.0\n",
       "1.0    2151.0\n",
       "Name: total_product_liked, dtype: float64"
      ]
     },
     "execution_count": 22,
     "metadata": {},
     "output_type": "execute_result"
    }
   ],
   "source": [
    "print(\"Distribution of total product liked\")\n",
    "total_product_liked.quantile([0, 0.1, 0.2, 0.3, 0.4, 0.5, 0.6, 0.7, 0.8, 0.9, 1])"
   ]
  },
  {
   "cell_type": "markdown",
   "metadata": {},
   "source": [
    "Something is not right as the 20% of data contain -ve values for product liked."
   ]
  },
  {
   "cell_type": "code",
   "execution_count": 23,
   "metadata": {},
   "outputs": [
    {
     "data": {
      "text/plain": [
       "Text(0.5,0,'Total product liked')"
      ]
     },
     "execution_count": 23,
     "metadata": {},
     "output_type": "execute_result"
    },
    {
     "data": {
      "image/png": "[encoded data removed]",
      "text/plain": [
       "<matplotlib.figure.Figure at 0x291bd271f98>"
      ]
     },
     "metadata": {},
     "output_type": "display_data"
    }
   ],
   "source": [
    "plt.hist(total_product_liked, alpha=0.5, bins=50 )\n",
    "plt.xlabel(\"Total product liked\")"
   ]
  },
  {
   "cell_type": "markdown",
   "metadata": {},
   "source": [
    "Need to figure out why product like, page views  and product like rate variables are negative. "
   ]
  },
  {
   "cell_type": "code",
   "execution_count": 24,
   "metadata": {},
   "outputs": [
    {
     "data": {
      "text/plain": [
       "Text(0.5,0,'total free coupan')"
      ]
     },
     "execution_count": 24,
     "metadata": {},
     "output_type": "execute_result"
    },
    {
     "data": {
      "image/png": "[encoded data removed]",
      "text/plain": [
       "<matplotlib.figure.Figure at 0x291bd2d59e8>"
      ]
     },
     "metadata": {},
     "output_type": "display_data"
    }
   ],
   "source": [
    "total_free_coupon_got = X.iloc[:,6]\n",
    "plt.boxplot(total_free_coupon_got)\n",
    "plt.xlabel(\"total free coupan\")"
   ]
  },
  {
   "cell_type": "code",
   "execution_count": 25,
   "metadata": {},
   "outputs": [
    {
     "data": {
      "text/plain": [
       "0.0   -18.000000\n",
       "0.1    -0.181818\n",
       "0.2     0.059524\n",
       "0.3     0.143885\n",
       "0.4     0.185185\n",
       "0.5     0.215962\n",
       "0.6     0.243243\n",
       "0.7     0.270232\n",
       "0.8     0.302215\n",
       "0.9     0.363636\n",
       "1.0    19.000000\n",
       "Name: product_like_rate, dtype: float64"
      ]
     },
     "execution_count": 25,
     "metadata": {},
     "output_type": "execute_result"
    }
   ],
   "source": [
    "total_free_coupon_got.quantile([0, 0.1, 0.2, 0.3, 0.4, 0.5, 0.6, 0.7, 0.8, 0.9, 1])"
   ]
  },
  {
   "cell_type": "code",
   "execution_count": 26,
   "metadata": {},
   "outputs": [
    {
     "data": {
      "text/plain": [
       "Text(0.5,0,'total free coupan')"
      ]
     },
     "execution_count": 26,
     "metadata": {},
     "output_type": "execute_result"
    },
    {
     "data": {
      "image/png": "[encoded data removed]",
      "text/plain": [
       "<matplotlib.figure.Figure at 0x291bd3a7e10>"
      ]
     },
     "metadata": {},
     "output_type": "display_data"
    }
   ],
   "source": [
    "plt.hist(total_free_coupon_got, alpha=0.5, bins=50 )\n",
    "plt.xlabel(\"total free coupan\")"
   ]
  },
  {
   "cell_type": "code",
   "execution_count": 27,
   "metadata": {},
   "outputs": [
    {
     "data": {
      "text/plain": [
       "Text(0.5,0,'total bonus points')"
      ]
     },
     "execution_count": 27,
     "metadata": {},
     "output_type": "execute_result"
    },
    {
     "data": {
      "image/png": "[encoded data removed]",
      "text/plain": [
       "<matplotlib.figure.Figure at 0x291be4972e8>"
      ]
     },
     "metadata": {},
     "output_type": "display_data"
    }
   ],
   "source": [
    "total_bonus_xp_points = X.iloc[:,7]\n",
    "plt.boxplot(total_bonus_xp_points)\n",
    "plt.xlabel(\"total bonus points\")"
   ]
  },
  {
   "cell_type": "code",
   "execution_count": 28,
   "metadata": {},
   "outputs": [
    {
     "data": {
      "text/plain": [
       "0.0      0.0\n",
       "0.1      0.0\n",
       "0.2      1.0\n",
       "0.3      2.0\n",
       "0.4      4.0\n",
       "0.5      6.0\n",
       "0.6      7.0\n",
       "0.7      9.0\n",
       "0.8     12.0\n",
       "0.9     14.0\n",
       "1.0    331.0\n",
       "Name: total_free_coupon_got, dtype: float64"
      ]
     },
     "execution_count": 28,
     "metadata": {},
     "output_type": "execute_result"
    }
   ],
   "source": [
    "total_bonus_xp_points.quantile([0, 0.1, 0.2, 0.3, 0.4, 0.5, 0.6, 0.7, 0.8, 0.9, 1])"
   ]
  },
  {
   "cell_type": "code",
   "execution_count": 29,
   "metadata": {},
   "outputs": [
    {
     "data": {
      "text/plain": [
       "Text(0.5,0,'total bonus points')"
      ]
     },
     "execution_count": 29,
     "metadata": {},
     "output_type": "execute_result"
    },
    {
     "data": {
      "image/png": "[encoded data removed]",
      "text/plain": [
       "<matplotlib.figure.Figure at 0x291be48a7b8>"
      ]
     },
     "metadata": {},
     "output_type": "display_data"
    }
   ],
   "source": [
    "plt.hist(total_bonus_xp_points, alpha=0.5, bins=50 )\n",
    "plt.xlabel(\"total bonus points\")"
   ]
  },
  {
   "cell_type": "code",
   "execution_count": 30,
   "metadata": {},
   "outputs": [
    {
     "data": {
      "text/plain": [
       "array([[<matplotlib.axes._subplots.AxesSubplot object at 0x00000291BE4B32E8>,\n",
       "        <matplotlib.axes._subplots.AxesSubplot object at 0x00000291BE609C50>,\n",
       "        <matplotlib.axes._subplots.AxesSubplot object at 0x00000291BE642C50>,\n",
       "        <matplotlib.axes._subplots.AxesSubplot object at 0x00000291BE6851D0>,\n",
       "        <matplotlib.axes._subplots.AxesSubplot object at 0x00000291BE6C11D0>,\n",
       "        <matplotlib.axes._subplots.AxesSubplot object at 0x00000291BE6C1208>,\n",
       "        <matplotlib.axes._subplots.AxesSubplot object at 0x00000291BE7235C0>,\n",
       "        <matplotlib.axes._subplots.AxesSubplot object at 0x00000291BE75D630>,\n",
       "        <matplotlib.axes._subplots.AxesSubplot object at 0x00000291BE798630>],\n",
       "       [<matplotlib.axes._subplots.AxesSubplot object at 0x00000291BE72C208>,\n",
       "        <matplotlib.axes._subplots.AxesSubplot object at 0x00000291BE8030F0>,\n",
       "        <matplotlib.axes._subplots.AxesSubplot object at 0x00000291BE83C5C0>,\n",
       "        <matplotlib.axes._subplots.AxesSubplot object at 0x00000291BE8785C0>,\n",
       "        <matplotlib.axes._subplots.AxesSubplot object at 0x00000291BE8B05C0>,\n",
       "        <matplotlib.axes._subplots.AxesSubplot object at 0x00000291BE8D8B70>,\n",
       "        <matplotlib.axes._subplots.AxesSubplot object at 0x00000291BE91F0F0>,\n",
       "        <matplotlib.axes._subplots.AxesSubplot object at 0x00000291BE94EFD0>,\n",
       "        <matplotlib.axes._subplots.AxesSubplot object at 0x00000291BE982FD0>],\n",
       "       [<matplotlib.axes._subplots.AxesSubplot object at 0x00000291BE9BAB70>,\n",
       "        <matplotlib.axes._subplots.AxesSubplot object at 0x00000291BE9F3BE0>,\n",
       "        <matplotlib.axes._subplots.AxesSubplot object at 0x00000291BEA2FBE0>,\n",
       "        <matplotlib.axes._subplots.AxesSubplot object at 0x00000291BEA67BE0>,\n",
       "        <matplotlib.axes._subplots.AxesSubplot object at 0x00000291BEA37860>,\n",
       "        <matplotlib.axes._subplots.AxesSubplot object at 0x00000291BEAD4780>,\n",
       "        <matplotlib.axes._subplots.AxesSubplot object at 0x00000291BEB0F780>,\n",
       "        <matplotlib.axes._subplots.AxesSubplot object at 0x00000291BEB486A0>,\n",
       "        <matplotlib.axes._subplots.AxesSubplot object at 0x00000291BEB826A0>],\n",
       "       [<matplotlib.axes._subplots.AxesSubplot object at 0x00000291BEBB80F0>,\n",
       "        <matplotlib.axes._subplots.AxesSubplot object at 0x00000291BEBF0160>,\n",
       "        <matplotlib.axes._subplots.AxesSubplot object at 0x00000291BEC059B0>,\n",
       "        <matplotlib.axes._subplots.AxesSubplot object at 0x00000291BEC650F0>,\n",
       "        <matplotlib.axes._subplots.AxesSubplot object at 0x00000291BEBF9C88>,\n",
       "        <matplotlib.axes._subplots.AxesSubplot object at 0x00000291BECC7B70>,\n",
       "        <matplotlib.axes._subplots.AxesSubplot object at 0x00000291BED03FD0>,\n",
       "        <matplotlib.axes._subplots.AxesSubplot object at 0x00000291BED43550>,\n",
       "        <matplotlib.axes._subplots.AxesSubplot object at 0x00000291BED7F550>],\n",
       "       [<matplotlib.axes._subplots.AxesSubplot object at 0x00000291BEDA96A0>,\n",
       "        <matplotlib.axes._subplots.AxesSubplot object at 0x00000291BEDE2780>,\n",
       "        <matplotlib.axes._subplots.AxesSubplot object at 0x00000291BEE1D710>,\n",
       "        <matplotlib.axes._subplots.AxesSubplot object at 0x00000291BEE56710>,\n",
       "        <matplotlib.axes._subplots.AxesSubplot object at 0x00000291BEB8D358>,\n",
       "        <matplotlib.axes._subplots.AxesSubplot object at 0x00000291BEEB5588>,\n",
       "        <matplotlib.axes._subplots.AxesSubplot object at 0x00000291BEEEE4A8>,\n",
       "        <matplotlib.axes._subplots.AxesSubplot object at 0x00000291BEF283C8>,\n",
       "        <matplotlib.axes._subplots.AxesSubplot object at 0x00000291BEF623C8>],\n",
       "       [<matplotlib.axes._subplots.AxesSubplot object at 0x00000291BEF8CB38>,\n",
       "        <matplotlib.axes._subplots.AxesSubplot object at 0x00000291BEFC5F98>,\n",
       "        <matplotlib.axes._subplots.AxesSubplot object at 0x00000291BEFFEF98>,\n",
       "        <matplotlib.axes._subplots.AxesSubplot object at 0x00000291BF035F28>,\n",
       "        <matplotlib.axes._subplots.AxesSubplot object at 0x00000291BF06DB38>,\n",
       "        <matplotlib.axes._subplots.AxesSubplot object at 0x00000291BF0A5BA8>,\n",
       "        <matplotlib.axes._subplots.AxesSubplot object at 0x00000291BF0E0BA8>,\n",
       "        <matplotlib.axes._subplots.AxesSubplot object at 0x00000291BF11ABA8>,\n",
       "        <matplotlib.axes._subplots.AxesSubplot object at 0x00000291BF0F1710>],\n",
       "       [<matplotlib.axes._subplots.AxesSubplot object at 0x00000291BF188748>,\n",
       "        <matplotlib.axes._subplots.AxesSubplot object at 0x00000291BF1C4748>,\n",
       "        <matplotlib.axes._subplots.AxesSubplot object at 0x00000291BF1FC668>,\n",
       "        <matplotlib.axes._subplots.AxesSubplot object at 0x00000291BF233BA8>,\n",
       "        <matplotlib.axes._subplots.AxesSubplot object at 0x00000291BF26B128>,\n",
       "        <matplotlib.axes._subplots.AxesSubplot object at 0x00000291BF2A40B8>,\n",
       "        <matplotlib.axes._subplots.AxesSubplot object at 0x00000291BF2DD0B8>,\n",
       "        <matplotlib.axes._subplots.AxesSubplot object at 0x00000291BF316588>,\n",
       "        <matplotlib.axes._subplots.AxesSubplot object at 0x00000291BF33CAC8>],\n",
       "       [<matplotlib.axes._subplots.AxesSubplot object at 0x00000291BF37A9E8>,\n",
       "        <matplotlib.axes._subplots.AxesSubplot object at 0x00000291BF3B49E8>,\n",
       "        <matplotlib.axes._subplots.AxesSubplot object at 0x00000291BF3EAF28>,\n",
       "        <matplotlib.axes._subplots.AxesSubplot object at 0x00000291BF3F8EF0>,\n",
       "        <matplotlib.axes._subplots.AxesSubplot object at 0x00000291BF45C588>,\n",
       "        <matplotlib.axes._subplots.AxesSubplot object at 0x00000291BF494588>,\n",
       "        <matplotlib.axes._subplots.AxesSubplot object at 0x00000291BF4CEAC8>,\n",
       "        <matplotlib.axes._subplots.AxesSubplot object at 0x00000291BF506A58>,\n",
       "        <matplotlib.axes._subplots.AxesSubplot object at 0x00000291BF52FF28>],\n",
       "       [<matplotlib.axes._subplots.AxesSubplot object at 0x00000291BF569EB8>,\n",
       "        <matplotlib.axes._subplots.AxesSubplot object at 0x00000291BF5A4F28>,\n",
       "        <matplotlib.axes._subplots.AxesSubplot object at 0x00000291BF5E0E48>,\n",
       "        <matplotlib.axes._subplots.AxesSubplot object at 0x00000291BF57E7B8>,\n",
       "        <matplotlib.axes._subplots.AxesSubplot object at 0x00000291BF64B9E8>,\n",
       "        <matplotlib.axes._subplots.AxesSubplot object at 0x00000291BF687E48>,\n",
       "        <matplotlib.axes._subplots.AxesSubplot object at 0x00000291BF6C1E48>,\n",
       "        <matplotlib.axes._subplots.AxesSubplot object at 0x00000291BF6F6E48>,\n",
       "        <matplotlib.axes._subplots.AxesSubplot object at 0x00000291BF72E4A8>]],\n",
       "      dtype=object)"
      ]
     },
     "execution_count": 30,
     "metadata": {},
     "output_type": "execute_result"
    },
    {
     "data": {
      "image/png": "[encoded data removed]",
      "text/plain": [
       "<matplotlib.figure.Figure at 0x291be519710>"
      ]
     },
     "metadata": {},
     "output_type": "display_data"
    }
   ],
   "source": [
    "# BiVariate Analysis\n",
    "scatter_matrix(X,  diagonal='kde', alpha=0.3 ,figsize=(12, 8))"
   ]
  },
  {
   "cell_type": "code",
   "execution_count": 31,
   "metadata": {},
   "outputs": [
    {
     "data": {
      "text/plain": [
       "Text(0,0.5,'VIP')"
      ]
     },
     "execution_count": 31,
     "metadata": {},
     "output_type": "execute_result"
    },
    {
     "data": {
      "image/png": "[encoded data removed]",
      "text/plain": [
       "<matplotlib.figure.Figure at 0x291c0cca4a8>"
      ]
     },
     "metadata": {},
     "output_type": "display_data"
    }
   ],
   "source": [
    "plt.scatter(payment_7_day, y)\n",
    "plt.xlabel(\"payments\")\n",
    "plt.ylabel(\"VIP\")"
   ]
  },
  {
   "cell_type": "code",
   "execution_count": 32,
   "metadata": {},
   "outputs": [
    {
     "data": {
      "text/plain": [
       "Text(0,0.5,'VIP')"
      ]
     },
     "execution_count": 32,
     "metadata": {},
     "output_type": "execute_result"
    },
    {
     "data": {
      "image/png": "[encoded data removed]",
      "text/plain": [
       "<matplotlib.figure.Figure at 0x291c0c90fd0>"
      ]
     },
     "metadata": {},
     "output_type": "display_data"
    }
   ],
   "source": [
    "plt.scatter(total_trans, y)\n",
    "plt.xlabel(\"total transactions\")\n",
    "plt.ylabel(\"VIP\")"
   ]
  },
  {
   "cell_type": "code",
   "execution_count": 33,
   "metadata": {},
   "outputs": [
    {
     "name": "stdout",
     "output_type": "stream",
     "text": [
      "                                IsVIP_500  payment_7_day  dau_days  \\\n",
      "IsVIP_500                        1.000000       0.278182  0.072548   \n",
      "payment_7_day                    0.278182       1.000000 -0.061043   \n",
      "dau_days                         0.072548      -0.061043  1.000000   \n",
      "days_between_install_first_pay  -0.021702       0.009763  0.057326   \n",
      "total_txns_7_day                 0.171964       0.323031  0.152072   \n",
      "total_page_views                 0.136331       0.163100  0.424546   \n",
      "total_product_liked              0.139120       0.183088  0.402181   \n",
      "total_free_coupon_got            0.048275      -0.042190  0.593183   \n",
      "total_bonus_xp_points            0.044426      -0.036809  0.521665   \n",
      "\n",
      "                                days_between_install_first_pay  \\\n",
      "IsVIP_500                                            -0.021702   \n",
      "payment_7_day                                         0.009763   \n",
      "dau_days                                              0.057326   \n",
      "days_between_install_first_pay                        1.000000   \n",
      "total_txns_7_day                                     -0.021433   \n",
      "total_page_views                                      0.066071   \n",
      "total_product_liked                                   0.058786   \n",
      "total_free_coupon_got                                 0.072437   \n",
      "total_bonus_xp_points                                 0.034504   \n",
      "\n",
      "                                total_txns_7_day  total_page_views  \\\n",
      "IsVIP_500                               0.171964          0.136331   \n",
      "payment_7_day                           0.323031          0.163100   \n",
      "dau_days                                0.152072          0.424546   \n",
      "days_between_install_first_pay         -0.021433          0.066071   \n",
      "total_txns_7_day                        1.000000          0.218208   \n",
      "total_page_views                        0.218208          1.000000   \n",
      "total_product_liked                     0.225839          0.972279   \n",
      "total_free_coupon_got                   0.109203          0.408759   \n",
      "total_bonus_xp_points                   0.098041          0.354204   \n",
      "\n",
      "                                total_product_liked  total_free_coupon_got  \\\n",
      "IsVIP_500                                  0.139120               0.048275   \n",
      "payment_7_day                              0.183088              -0.042190   \n",
      "dau_days                                   0.402181               0.593183   \n",
      "days_between_install_first_pay             0.058786               0.072437   \n",
      "total_txns_7_day                           0.225839               0.109203   \n",
      "total_page_views                           0.972279               0.408759   \n",
      "total_product_liked                        1.000000               0.404687   \n",
      "total_free_coupon_got                      0.404687               1.000000   \n",
      "total_bonus_xp_points                      0.354987               0.882545   \n",
      "\n",
      "                                total_bonus_xp_points  \n",
      "IsVIP_500                                    0.044426  \n",
      "payment_7_day                               -0.036809  \n",
      "dau_days                                     0.521665  \n",
      "days_between_install_first_pay               0.034504  \n",
      "total_txns_7_day                             0.098041  \n",
      "total_page_views                             0.354204  \n",
      "total_product_liked                          0.354987  \n",
      "total_free_coupon_got                        0.882545  \n",
      "total_bonus_xp_points                        1.000000  \n"
     ]
    },
    {
     "data": {
      "image/png": "[encoded data removed]",
      "text/plain": [
       "<matplotlib.figure.Figure at 0x291c0e8d2e8>"
      ]
     },
     "metadata": {},
     "output_type": "display_data"
    }
   ],
   "source": [
    "correlations = user.corr()\n",
    "print(correlations)\n",
    "# plot correlation matrix\n",
    "fig = plt.figure()\n",
    "ax = fig.add_subplot(111)\n",
    "cax = ax.matshow(correlations, vmin=-1, vmax=1)\n",
    "fig.colorbar(cax)\n",
    "ticks = np.arange(0,9,1)\n",
    "ax.set_xticks(ticks)\n",
    "ax.set_yticks(ticks)\n",
    "ax.set_xticklabels(user.columns)\n",
    "ax.set_yticklabels(user.columns)\n",
    "plt.show()"
   ]
  },
  {
   "cell_type": "code",
   "execution_count": 34,
   "metadata": {},
   "outputs": [
    {
     "name": "stdout",
     "output_type": "stream",
     "text": [
      "Size of Training Dataset - features\n",
      "(7000, 9)\n",
      "\n",
      "Size of Testing Dataset - features\n",
      "(3001, 9)\n",
      "\n",
      "Size of Training Dataset - target\n",
      "7000\n",
      "\n",
      "Size of Testing Dataset - target\n",
      "3001\n",
      "\n",
      "Count of IsVIP_500 - train\n",
      "0    6894\n",
      "1     106\n",
      "Name: IsVIP_500, dtype: int64\n",
      "\n",
      "Count of IsVIP_500 - test\n",
      "0    2952\n",
      "1      49\n",
      "Name: IsVIP_500, dtype: int64\n",
      "\n",
      "Proportion of IsVIP_500 - train\n",
      "\n",
      "0    98.485714\n",
      "1     1.514286\n",
      "Name: IsVIP_500, dtype: float64\n",
      "\n",
      "Proportion of IsVIP_500 - test\n",
      "\n",
      "0    98.367211\n",
      "1     1.632789\n",
      "Name: IsVIP_500, dtype: float64\n"
     ]
    }
   ],
   "source": [
    "seed = 10\n",
    "#Splitting the dataset into the Training set and Test set\n",
    "X_train, X_test, y_train, y_test = train_test_split(X, y, test_size = 0.30, random_state = seed)\n",
    "\n",
    "print(\"Size of Training Dataset - features\")\n",
    "print(X_train.shape)                                                           ## count for X_train\n",
    "print(\"\\nSize of Testing Dataset - features\")\n",
    "print(X_test.shape)                                                            ## count for X_test\n",
    "\n",
    "print(\"\\nSize of Training Dataset - target\")\n",
    "print(y_train.count())                                                         ## count for y_train\n",
    "print(\"\\nSize of Testing Dataset - target\")\n",
    "print(y_test.count())\n",
    "\n",
    "print(\"\\nCount of IsVIP_500 - train\")\n",
    "print(y_train.value_counts())                                                  ## count\n",
    "print(\"\\nCount of IsVIP_500 - test\")\n",
    "print(y_test.value_counts()) \n",
    "\n",
    "print(\"\\nProportion of IsVIP_500 - train\\n\")\n",
    "print(y_train.value_counts() / (len(y_train)) * 100)                                     ## proportion\n",
    "print(\"\\nProportion of IsVIP_500 - test\\n\")\n",
    "print(y_test.value_counts() / (len(y_test)) * 100)"
   ]
  },
  {
   "cell_type": "markdown",
   "metadata": {},
   "source": [
    "The proportion of class looks fine in the Train and Test dataset and \n",
    "the proportion is pretty much similar to original dataset proportion.\n",
    "Since the data has many outliers, lets transform the data in useful format.\n",
    "Since the data has many outliers its not good choice to normalize it as it will fit the data in (0,1) will supress the impact of outliers. Transforming the data using the log function is again not a good idea as data has many -ve values. \n",
    "So I decided to standardize the data for modeling."
   ]
  },
  {
   "cell_type": "code",
   "execution_count": 35,
   "metadata": {},
   "outputs": [
    {
     "name": "stdout",
     "output_type": "stream",
     "text": [
      "Data after Standardization\n",
      "          0         1         2         3         4         5         6  \\\n",
      "0 -0.374995  0.577552  1.937446 -0.119412  0.085007  0.374114  0.070935   \n",
      "1 -0.427368  0.577552 -0.727179 -0.591394 -0.277066 -0.409501 -0.062867   \n",
      "2 -0.410026 -0.337433 -0.744496 -0.591394 -0.386442 -0.306732  0.018881   \n",
      "3 -0.028850  0.120059 -0.380824  0.352571 -0.295923 -0.146155  0.050692   \n",
      "4 -0.305974 -0.337433 -0.744496 -0.591394 -0.299695 -0.313155 -0.017934   \n",
      "\n",
      "          7         8  \n",
      "0 -0.929947 -0.807792  \n",
      "1  0.018504 -0.006015  \n",
      "2 -0.387975 -0.452022  \n",
      "3 -0.252482  0.447754  \n",
      "4 -0.252482 -0.345290  \n",
      "\n",
      "Train - Summary Stats after Standardization\n",
      "                  0             1             2             3             4  \\\n",
      "count  7.000000e+03  7.000000e+03  7.000000e+03  7.000000e+03  7.000000e+03   \n",
      "mean  -1.109906e-16  1.459785e-16  2.991258e-17 -3.717007e-16  4.402827e-17   \n",
      "std    1.000071e+00  1.000071e+00  1.000071e+00  1.000071e+00  1.000071e+00   \n",
      "min   -7.041452e-01 -1.709911e+00 -7.444964e-01 -5.913937e-01 -7.202272e-01   \n",
      "25%   -5.137306e-01 -7.949258e-01 -7.260241e-01 -5.913937e-01 -5.957648e-01   \n",
      "50%   -3.406579e-01  1.200591e-01 -6.330855e-01 -1.194115e-01 -3.468399e-01   \n",
      "75%    1.623955e-02  1.035044e+00  6.645913e-01 -1.194115e-01  1.887257e-01   \n",
      "max    6.489991e+00  1.035044e+00  2.997292e+00  3.622322e+01  1.366650e+01   \n",
      "\n",
      "                  5             6             7             8  \n",
      "count  7.000000e+03  7.000000e+03  7.000000e+03  7.000000e+03  \n",
      "mean   2.543997e-17  4.932067e-17  1.113712e-16 -1.417279e-16  \n",
      "std    1.000071e+00  1.000071e+00  1.000071e+00  1.000071e+00  \n",
      "min   -7.242321e-01 -1.057070e+01 -9.299470e-01 -8.077917e-01  \n",
      "25%   -5.893475e-01 -7.604617e-02 -6.589609e-01 -6.700116e-01  \n",
      "50%   -3.516937e-01 -1.482264e-02 -1.169886e-01 -2.209326e-01  \n",
      "75%    1.814216e-01  2.487372e-02  5.604768e-01  3.993203e-01  \n",
      "max    1.321384e+01  1.087061e+01  4.391826e+01  4.125298e+01  \n",
      "\n",
      "Data after Standardization\n",
      "          0         1         2         3         4         5         6  \\\n",
      "0 -0.305974  0.577552  1.378660 -0.119412  0.007689  0.200691  0.052350   \n",
      "1 -0.462052  1.035044  2.244548 -0.591394  0.377305  0.194268 -0.014385   \n",
      "2  2.085828  0.120059 -0.729488  1.768517  0.735606  1.292614  0.084260   \n",
      "3 -0.132554 -1.709911 -0.731797 -0.591394 -0.586336 -0.473732  0.047143   \n",
      "4  6.107774  0.120059 -0.730642  3.656446  0.009575 -0.011271  0.001250   \n",
      "\n",
      "          7         8  \n",
      "0  2.321887  1.509242  \n",
      "1  0.831463  0.585857  \n",
      "2 -0.929947 -0.807792  \n",
      "3 -0.794454 -0.691358  \n",
      "4  0.289491  0.975587  \n",
      "\n",
      "Test - Summary Stats after Standardization\n",
      "                 0            1            2            3            4  \\\n",
      "count  3001.000000  3001.000000  3001.000000  3001.000000  3001.000000   \n",
      "mean     -0.009109    -0.018972    -0.001282     0.003106     0.013241   \n",
      "std       0.974647     1.011974     1.005815     1.164333     1.024397   \n",
      "min      -0.704145    -1.709911    -0.744496    -0.591394    -0.720227   \n",
      "25%      -0.480781    -0.794926    -0.727179    -0.591394    -0.599536   \n",
      "50%      -0.340658     0.120059    -0.635972    -0.119412    -0.358155   \n",
      "75%       0.039825     1.035044     0.697495    -0.119412     0.213241   \n",
      "max       6.456695     1.035044     2.959193    37.639166    11.756189   \n",
      "\n",
      "                 5            6            7            8  \n",
      "count  3001.000000  3001.000000  3001.000000  3001.000000  \n",
      "mean      0.017429     0.013098    -0.020053    -0.012823  \n",
      "std       1.021403     1.030124     1.021840     1.033913  \n",
      "min      -0.724232    -9.991203    -0.929947    -0.807792  \n",
      "25%      -0.589347    -0.075402    -0.658961    -0.678421  \n",
      "50%      -0.358117    -0.014117    -0.116989    -0.269932  \n",
      "75%       0.181422     0.026677     0.424984     0.407325  \n",
      "max       9.738958    10.870612    33.349799    29.886766  \n"
     ]
    }
   ],
   "source": [
    "### Feature scaling  --- Normalization\n",
    "sc = StandardScaler()\n",
    "X_train = pd.DataFrame(sc.fit_transform(X_train))\n",
    "print(\"Data after Standardization\")\n",
    "print(X_train.head(5))                                                 \n",
    "print(\"\\nTrain - Summary Stats after Standardization\")\n",
    "print(X_train.describe())\n",
    "\n",
    "X_test = pd.DataFrame(sc.transform(X_test))\n",
    "print(\"\\nData after Standardization\")\n",
    "print(X_test.head(5))  \n",
    "print(\"\\nTest - Summary Stats after Standardization\")\n",
    "print(X_test.describe())"
   ]
  },
  {
   "cell_type": "code",
   "execution_count": 36,
   "metadata": {},
   "outputs": [
    {
     "name": "stdout",
     "output_type": "stream",
     "text": [
      "Classifier : DecisionTreeClassifier(class_weight=None, criterion='gini', max_depth=None,\n",
      "            max_features=None, max_leaf_nodes=None,\n",
      "            min_impurity_decrease=0.0, min_impurity_split=None,\n",
      "            min_samples_leaf=1, min_samples_split=2,\n",
      "            min_weight_fraction_leaf=0.0, presort=False, random_state=10,\n",
      "            splitter='best')\n"
     ]
    }
   ],
   "source": [
    "# Model Training:  Training a model on the data ----\n",
    "classifier = DecisionTreeClassifier(random_state=seed)                   ## Using default decision tree\n",
    "classifier.fit(X_train, y_train)\n",
    "print(\"Classifier :\", classifier)"
   ]
  },
  {
   "cell_type": "code",
   "execution_count": 37,
   "metadata": {},
   "outputs": [
    {
     "name": "stdout",
     "output_type": "stream",
     "text": [
      "\n",
      "Predictions time: 0.002 s\n",
      "\n",
      "Confusion matrix after prediction\n",
      "[[2910   42]\n",
      " [  39   10]]\n",
      "\n",
      "Accuracy %: \n",
      "97.30089970009996\n",
      "\n",
      "Classification Report:\n",
      "             precision    recall  f1-score   support\n",
      "\n",
      "          0       0.99      0.99      0.99      2952\n",
      "          1       0.19      0.20      0.20        49\n",
      "\n",
      "avg / total       0.97      0.97      0.97      3001\n",
      "\n",
      "\n",
      "ROC AUC Score: \n",
      "0.5949269951883193\n",
      "\n",
      "F1 Score: \n",
      "0.19801980198019803\n",
      "\n",
      "Sensitivity : \n",
      "0.20408163265306123\n",
      "\n",
      "Specificity : \n",
      "0.9857723577235772\n",
      "\n",
      "Training Accuracy : \n",
      "1.0\n",
      "\n",
      "Testing Accuracy : \n",
      "0.9730089970009996\n"
     ]
    }
   ],
   "source": [
    "# Model Evaluation : Evaluating model performance ----\n",
    "t0=time()\n",
    "y_pred = classifier.predict(X_test)\n",
    "print(\"\\nPredictions time:\", round(time()-t0, 3), \"s\")\n",
    "print(\"\\nConfusion matrix after prediction\")\n",
    "cm = confusion_matrix(y_test, y_pred)\n",
    "print(cm)\n",
    "\n",
    "print(\"\\nAccuracy %: \")\n",
    "print(accuracy_score(y_test, y_pred)*100)\n",
    "\n",
    "print(\"\\nClassification Report:\")\n",
    "print(classification_report(y_test, y_pred))                                                  #(tn, fp, fn, tp)\n",
    "\n",
    "print(\"\\nROC AUC Score: \")\n",
    "print(roc_auc_score(y_test, y_pred))\n",
    "\n",
    "print(\"\\nF1 Score: \")\n",
    "print(f1_score(y_test, y_pred))\n",
    "\n",
    "print(\"\\nSensitivity : \")\n",
    "print(float(cm[1][1])/ (cm[1][0]+cm[1][1]))\n",
    "\n",
    "print(\"\\nSpecificity : \")\n",
    "print(float(cm[0][0])/ (cm[0][0]+cm[0][1])) \n",
    "\n",
    "## Accuracy using classifier function\n",
    "print(\"\\nTraining Accuracy : \")\n",
    "print(classifier.score(X_train, y_train, sample_weight=None))\n",
    "print(\"\\nTesting Accuracy : \")\n",
    "print(classifier.score(X_test, y_test, sample_weight=None))"
   ]
  },
  {
   "cell_type": "markdown",
   "metadata": {},
   "source": [
    "A ROC space is defined by FPR and TPR as x and y axes, respectively, which depicts relative trade-offs between true positive (benefits) and false positive (costs). Since TPR is equivalent to sensitivity(recall - TP/Condition Positive) and FPR is equal to 1 − specificity, the ROC graph is sometimes called the sensitivity vs (1 − specificity) plot.\n",
    "FPR = 1 - TNR (TN / Condition Negative).\n",
    "\n",
    "The kappa statistic adjusts accuracy by accounting for the possibility of a correct prediction by chance alone. This is\n",
    "especially important for datasets with a severe class imbalance, because a classifier can obtain high accuracy simply by always guessing the most frequent class. Thekappa statistic will only reward the classifier if it is correct more often than this\n",
    "simplistic strategy.Kappa values range from 0 to a maximum of 1, which indicates perfect agreement between the model's predictions and the true values. Values less than one indicate imperfect agreement.\n",
    "Using the suggested interpretation, we note that there is very good agreement between the classifier's predictions and the actual values.\n",
    "\n",
    "The precision  is defined as the proportion of positive examples that are truly positive; in other words, when a model\n",
    "predicts the positive class, how often is it correct? A precise model will only predict the positive class in cases that are very likely to be positive. It will be very trustworthy.\n",
    "\n",
    "F1 Score - A measure of model performance that combines precision and recall into a single number is known as the F-measure (also sometimes called the F1 score or F-score).The F-measure combines precision and recall using the harmonic mean, a type of\n",
    "average that is used for rates of change. The harmonic mean is used rather than the common arithmetic mean since both precision and recall are expressed as proportions between zero and one, which can be interpreted as rates.\n",
    "\n",
    "In this case sensitivity which is True positive rate is significantly 0.14 low [When customer is VIP only 14% VIP customers correctly classified] where as Specificity is 0.98 [98% Non VIP customers correctly classified]. So model is able to do better prediction for class Non VIP than VIP\n",
    "\n",
    "In this case, the precision for positive class is only 12% means when model predicts positive class, only 12% of the time predictions are correct.\n",
    "F-score also indicates that the model is performing well for NonVIP class than VIP class.\n",
    "So over all this model is not performing well in prediction of VIP customers.\n",
    "\n",
    "Here, business objective to identify positive class is critical or identify VIP customers accurately is critical. Identifying NonVIP as VIP is acceptable but predicting VIP as nonVIP will affect business and its more critical. So, Here the objective should be optimize the sensitivity.\n",
    "Also the training accuracy is 100% and testing accuracy is lowered, which clearly indicates that the model is overfitted."
   ]
  },
  {
   "cell_type": "code",
   "execution_count": 38,
   "metadata": {},
   "outputs": [
    {
     "name": "stdout",
     "output_type": "stream",
     "text": [
      "\n",
      "Model Improvement Using criterion='gini' and min_samples_leaf=5 and max_depth=3\n",
      "\n",
      "Classifier :\n",
      "DecisionTreeClassifier(class_weight=None, criterion='entropy', max_depth=3,\n",
      "            max_features=None, max_leaf_nodes=None,\n",
      "            min_impurity_decrease=0.0, min_impurity_split=None,\n",
      "            min_samples_leaf=2, min_samples_split=4,\n",
      "            min_weight_fraction_leaf=0.0, presort=False, random_state=100,\n",
      "            splitter='best')\n",
      "\n",
      "Predictions time: 0.107 s\n",
      "\n",
      "Confusion matrix after prediction\n",
      "[[2910   42]\n",
      " [  39   10]]\n",
      "\n",
      "Accuracy %: \n",
      "97.30089970009996\n",
      "\n",
      "Classification Report:\n",
      "             precision    recall  f1-score   support\n",
      "\n",
      "          0       0.99      0.99      0.99      2952\n",
      "          1       0.19      0.20      0.20        49\n",
      "\n",
      "avg / total       0.97      0.97      0.97      3001\n",
      "\n",
      "\n",
      "ROC AUC Score: \n",
      "0.5949269951883193\n",
      "\n",
      "F1 Score: \n",
      "0.19801980198019803\n",
      "\n",
      "Sensitivity : \n",
      "0.20408163265306123\n",
      "\n",
      "Specificity : \n",
      "0.9857723577235772\n",
      "\n",
      "Training Accuracy : \n",
      "0.9848571428571429\n",
      "\n",
      "Testing Accuracy : \n",
      "0.9836721092969011\n"
     ]
    }
   ],
   "source": [
    "## Model Improvement\n",
    "#X_train, X_test, y_train, y_test = train_test_split(X, y, test_size = 0.30, random_state = 0)\n",
    "#sc = StandardScaler()\n",
    "#X_train = pd.DataFrame(sc.fit_transform(X_train))\n",
    "#X_test = pd.DataFrame(sc.fit_transform(X_test))\n",
    "\n",
    "print(\"\\nModel Improvement Using criterion='gini' and min_samples_leaf=5 and max_depth=3\\n\")\n",
    "giniclassifier = DecisionTreeClassifier(class_weight=None, criterion='entropy', max_depth=3,\n",
    "            max_features=None, max_leaf_nodes=None,\n",
    "            min_impurity_decrease=0.0, min_impurity_split=None,\n",
    "            min_samples_leaf=2, min_samples_split=4,\n",
    "            min_weight_fraction_leaf=0.0, presort=False, random_state=100,\n",
    "            splitter='best')\n",
    "giniclassifier.fit(X_train, y_train)\n",
    "print(\"Classifier :\"),\n",
    "print(giniclassifier)\n",
    "\n",
    "y_pred = classifier.predict(X_test)\n",
    "print(\"\\nPredictions time:\", round(time()-t0, 3), \"s\")\n",
    "print(\"\\nConfusion matrix after prediction\")\n",
    "cm = confusion_matrix(y_test, y_pred)\n",
    "print(cm)\n",
    "\n",
    "print(\"\\nAccuracy %: \")\n",
    "print(accuracy_score(y_test, y_pred)*100)\n",
    "\n",
    "print(\"\\nClassification Report:\")\n",
    "print(classification_report(y_test, y_pred))                                                  #(tn, fp, fn, tp)\n",
    "\n",
    "print(\"\\nROC AUC Score: \")\n",
    "print(roc_auc_score(y_test, y_pred))\n",
    "\n",
    "print(\"\\nF1 Score: \")\n",
    "print(f1_score(y_test, y_pred))\n",
    "\n",
    "print(\"\\nSensitivity : \")\n",
    "print(float(cm[1][1]) / (cm[1][0]+cm[1][1]))\n",
    "\n",
    "print(\"\\nSpecificity : \")\n",
    "print(float(cm[0][0]) / (cm[0][0]+cm[0][1])) \n",
    "\n",
    "## Accuracy using classifier function\n",
    "print(\"\\nTraining Accuracy : \")\n",
    "print(giniclassifier.score(X_train, y_train, sample_weight=None))\n",
    "print(\"\\nTesting Accuracy : \")\n",
    "print(giniclassifier.score(X_test, y_test, sample_weight=None))"
   ]
  },
  {
   "cell_type": "markdown",
   "metadata": {},
   "source": [
    "With this decisionTreeClassifier, I see recall is little bit improved from 12% to 19%"
   ]
  },
  {
   "cell_type": "code",
   "execution_count": 39,
   "metadata": {},
   "outputs": [
    {
     "name": "stdout",
     "output_type": "stream",
     "text": [
      "Random Forest Classifier : RandomForestClassifier(bootstrap=True, class_weight=None, criterion='entropy',\n",
      "            max_depth=3, max_features='auto', max_leaf_nodes=None,\n",
      "            min_impurity_decrease=0.0, min_impurity_split=None,\n",
      "            min_samples_leaf=5, min_samples_split=4,\n",
      "            min_weight_fraction_leaf=0.0, n_estimators=10, n_jobs=1,\n",
      "            oob_score=False, random_state=0, verbose=0, warm_start=False)\n",
      "\n",
      "Predictions time: 0.004 s\n",
      "\n",
      "Confusion matrix after prediction\n",
      "[[2952    0]\n",
      " [  49    0]]\n",
      "\n",
      "Accuracy %: \n",
      "98.3672109296901\n",
      "\n",
      "Classification Report:\n",
      "             precision    recall  f1-score   support\n",
      "\n",
      "          0       0.98      1.00      0.99      2952\n",
      "          1       0.00      0.00      0.00        49\n",
      "\n",
      "avg / total       0.97      0.98      0.98      3001\n",
      "\n",
      "\n",
      "ROC AUC Score: \n",
      "0.5\n",
      "\n",
      "F1 Score: \n",
      "0.0\n",
      "\n",
      "Sensitivity : \n",
      "0.0\n",
      "\n",
      "Specificity : \n",
      "1.0\n",
      "\n",
      "Training Accuracy : \n",
      "0.9848571428571429\n",
      "\n",
      "Testing Accuracy : \n",
      "0.9836721092969011\n"
     ]
    },
    {
     "name": "stderr",
     "output_type": "stream",
     "text": [
      "C:\\Users\\prita\\Anaconda3\\lib\\site-packages\\sklearn\\metrics\\classification.py:1135: UndefinedMetricWarning: Precision and F-score are ill-defined and being set to 0.0 in labels with no predicted samples.\n",
      "  'precision', 'predicted', average, warn_for)\n",
      "C:\\Users\\prita\\Anaconda3\\lib\\site-packages\\sklearn\\metrics\\classification.py:1135: UndefinedMetricWarning: F-score is ill-defined and being set to 0.0 due to no predicted samples.\n",
      "  'precision', 'predicted', average, warn_for)\n"
     ]
    }
   ],
   "source": [
    "### Using RandomForestClassifier and criterion='entropy'\n",
    "ranforestclassifier = RandomForestClassifier(bootstrap=True, class_weight=None, criterion='entropy',\n",
    "            max_depth=3, max_features='auto', max_leaf_nodes=None,\n",
    "            min_impurity_decrease=0.0, min_impurity_split=None,\n",
    "            min_samples_leaf=5, min_samples_split=4,\n",
    "            min_weight_fraction_leaf=0.0, n_estimators=10, n_jobs=1,\n",
    "            oob_score=False, random_state=0, verbose=0, warm_start=False)\n",
    "ranforestclassifier.fit(X_train, y_train)\n",
    "print(\"Random Forest Classifier :\", ranforestclassifier)\n",
    "t0=time()\n",
    "y_pred = ranforestclassifier.predict(X_test)\n",
    "\n",
    "print(\"\\nPredictions time:\", round(time()-t0, 3), \"s\")\n",
    "print(\"\\nConfusion matrix after prediction\")\n",
    "cm = confusion_matrix(y_test, y_pred)\n",
    "print(cm)\n",
    "\n",
    "print(\"\\nAccuracy %: \")\n",
    "print(accuracy_score(y_test, y_pred)*100)\n",
    "\n",
    "print(\"\\nClassification Report:\")\n",
    "print(classification_report(y_test, y_pred))                                                  #(tn, fp, fn, tp)\n",
    "\n",
    "print(\"\\nROC AUC Score: \")\n",
    "print(roc_auc_score(y_test, y_pred))\n",
    "\n",
    "print(\"\\nF1 Score: \")\n",
    "print(f1_score(y_test, y_pred))\n",
    "\n",
    "print(\"\\nSensitivity : \")\n",
    "print(float(cm[1][1]) / (cm[1][0]+cm[1][1]))\n",
    "\n",
    "print(\"\\nSpecificity : \")\n",
    "print(float(cm[0][0]) / (cm[0][0]+cm[0][1])) \n",
    "\n",
    "## Accuracy using classifier function\n",
    "print(\"\\nTraining Accuracy : \")\n",
    "print(ranforestclassifier.score(X_train, y_train, sample_weight=None))\n",
    "print(\"\\nTesting Accuracy : \")\n",
    "print(ranforestclassifier.score(X_test, y_test, sample_weight=None))        "
   ]
  },
  {
   "cell_type": "markdown",
   "metadata": {},
   "source": [
    "Random Forest does not look like working here"
   ]
  },
  {
   "cell_type": "code",
   "execution_count": 40,
   "metadata": {},
   "outputs": [
    {
     "name": "stdout",
     "output_type": "stream",
     "text": [
      "Gradient Boosting Classifier : GradientBoostingClassifier(criterion='friedman_mse', init=None,\n",
      "              learning_rate=1.0, loss='deviance', max_depth=4,\n",
      "              max_features=None, max_leaf_nodes=None,\n",
      "              min_impurity_decrease=0.0, min_impurity_split=None,\n",
      "              min_samples_leaf=1, min_samples_split=2,\n",
      "              min_weight_fraction_leaf=0.0, n_estimators=10,\n",
      "              presort='auto', random_state=0, subsample=1.0, verbose=0,\n",
      "              warm_start=False)\n",
      "\n",
      "Predictions time: 0.001 s\n",
      "\n",
      "Confusion matrix after prediction\n",
      "[[2926   26]\n",
      " [  43    6]]\n",
      "\n",
      "Accuracy %: \n",
      "97.70076641119627\n",
      "\n",
      "Classification Report:\n",
      "             precision    recall  f1-score   support\n",
      "\n",
      "          0       0.99      0.99      0.99      2952\n",
      "          1       0.19      0.12      0.15        49\n",
      "\n",
      "avg / total       0.97      0.98      0.97      3001\n",
      "\n",
      "\n",
      "ROC AUC Score: \n",
      "0.5568206957579779\n",
      "\n",
      "F1 Score: \n",
      "0.1481481481481481\n",
      "\n",
      "Sensitivity : \n",
      "0.12244897959183673\n",
      "\n",
      "Specificity : \n",
      "0.9911924119241192\n",
      "\n",
      "Training Accuracy : \n",
      "0.9857142857142858\n",
      "\n",
      "Testing Accuracy : \n",
      "0.9770076641119627\n"
     ]
    }
   ],
   "source": [
    "### ignore\n",
    "gradientboostingclassifier = GradientBoostingClassifier(n_estimators=10, learning_rate=1.0,\n",
    "    max_depth=4, random_state=0)\n",
    "gradientboostingclassifier.fit(X_train, y_train)\n",
    "print(\"Gradient Boosting Classifier :\", gradientboostingclassifier)\n",
    "t0=time()\n",
    "y_pred = gradientboostingclassifier.predict(X_test)\n",
    "\n",
    "print(\"\\nPredictions time:\", round(time()-t0, 3), \"s\")\n",
    "print(\"\\nConfusion matrix after prediction\")\n",
    "cm = confusion_matrix(y_test, y_pred)\n",
    "print(cm)\n",
    "\n",
    "print(\"\\nAccuracy %: \")\n",
    "print(accuracy_score(y_test, y_pred)*100)\n",
    "\n",
    "print(\"\\nClassification Report:\")\n",
    "print(classification_report(y_test, y_pred))                                                  #(tn, fp, fn, tp)\n",
    "\n",
    "print(\"\\nROC AUC Score: \")\n",
    "print(roc_auc_score(y_test, y_pred))\n",
    "\n",
    "print(\"\\nF1 Score: \")\n",
    "print(f1_score(y_test, y_pred))\n",
    "\n",
    "print(\"\\nSensitivity : \")\n",
    "print(float(cm[1][1]) / (cm[1][0]+cm[1][1]))\n",
    "\n",
    "print(\"\\nSpecificity : \")\n",
    "print(float(cm[0][0]) / (cm[0][0]+cm[0][1])) \n",
    "\n",
    "## Accuracy using classifier function\n",
    "print(\"\\nTraining Accuracy : \")\n",
    "print(gradientboostingclassifier.score(X_train, y_train, sample_weight=None))\n",
    "print(\"\\nTesting Accuracy : \")\n",
    "print(gradientboostingclassifier.score(X_test, y_test, sample_weight=None))        "
   ]
  },
  {
   "cell_type": "markdown",
   "metadata": {},
   "source": [
    "Gradient Boosting also does not look like helping much.\n",
    "So from above outputs we can clearly see the CART model is not good choice here as the max sensitivity \n",
    "we are getting ever after tunning  is not going over 18%.\n",
    "So, I decided to use K fold validation here to compare diffrent models for Recall. We need to find best model which will \n",
    "work improve accuracy for classifiying VIP customers."
   ]
  },
  {
   "cell_type": "code",
   "execution_count": 41,
   "metadata": {
    "collapsed": true
   },
   "outputs": [],
   "source": [
    "## Ignore\n",
    "#xgb = XGBClassifier(max_depth=4, learning_rate=0.05, n_estimators=200,\n",
    "#                        objective='multi:softprob', gamma=0., \n",
    "#                        max_delta_step=0., subsample=0.9, colsample_bytree=0.9,\n",
    "#                        seed=0) "
   ]
  },
  {
   "cell_type": "code",
   "execution_count": 42,
   "metadata": {
    "collapsed": true
   },
   "outputs": [],
   "source": [
    "## implement Logistic Regression\n",
    "#training_features = ['payment_7_day', 'dau_days', 'days_between_install_first_pay',\n",
    "# 'total_txns_7_day', 'total_page_views', 'total_product_liked', 'total_free_coupon_got', 'total_bonus_xp_points']\n",
    "\n",
    "#X_train, X_test, y_train, y_test = train_test_split(X[training_features], y, test_size = 0.30, random_state = 0)\n",
    "#print(X_train.columns.values)\n",
    "#sc = StandardScaler()\n",
    "#X_train = pd.DataFrame(sc.fit_transform(X_train))\n",
    "#X_test = pd.DataFrame(sc.fit_transform(X_test))\n",
    "#print(X_train.columns.values)"
   ]
  },
  {
   "cell_type": "code",
   "execution_count": 43,
   "metadata": {},
   "outputs": [
    {
     "name": "stdout",
     "output_type": "stream",
     "text": [
      "Logistic Regression Classifier : LogisticRegression(C=1.0, class_weight='balanced', dual=False,\n",
      "          fit_intercept=True, intercept_scaling=1, max_iter=100,\n",
      "          multi_class='ovr', n_jobs=1, penalty='l2', random_state=None,\n",
      "          solver='liblinear', tol=0.0001, verbose=0, warm_start=False)\n",
      "\n",
      "Predictions time: 0.002 s\n",
      "\n",
      "Confusion matrix after prediction\n",
      "[[2629  323]\n",
      " [  11   38]]\n",
      "\n",
      "Accuracy %: \n",
      "88.87037654115295\n",
      "\n",
      "Classification Report:\n",
      "             precision    recall  f1-score   support\n",
      "\n",
      "          0       1.00      0.89      0.94      2952\n",
      "          1       0.11      0.78      0.19        49\n",
      "\n",
      "avg / total       0.98      0.89      0.93      3001\n",
      "\n",
      "\n",
      "ROC AUC Score: \n",
      "0.8330464299540955\n",
      "\n",
      "F1 Score: \n",
      "0.18536585365853658\n",
      "\n",
      "Sensitivity : \n",
      "0.7755102040816326\n",
      "\n",
      "Specificity : \n",
      "0.8905826558265583\n",
      "\n",
      "Training Accuracy : \n",
      "0.8857142857142857\n",
      "\n",
      "Testing Accuracy : \n",
      "0.8887037654115295\n"
     ]
    }
   ],
   "source": [
    "#trained_logistic_regression_model = train_logistic_regression(train_x, train_y)\n",
    "# Added class_weight = 'balanced' to handle class imbalance\n",
    "logitClassifier = LogisticRegression(penalty='l2', dual=False, tol=0.0001, C=1.0, fit_intercept=True, intercept_scaling=1, \n",
    "                   class_weight = 'balanced', random_state=None, solver='liblinear', \n",
    "                   max_iter=100, multi_class='ovr', verbose=0, warm_start=False, n_jobs=1)\n",
    "\n",
    "logitClassifier.fit(X_train, y_train)\n",
    "print(\"Logistic Regression Classifier :\", logitClassifier)\n",
    "t0=time()\n",
    "y_pred = logitClassifier.predict(X_test)\n",
    "\n",
    "print(\"\\nPredictions time:\", round(time()-t0, 3), \"s\")\n",
    "print(\"\\nConfusion matrix after prediction\")\n",
    "cm = confusion_matrix(y_test, y_pred)\n",
    "print(cm)\n",
    "\n",
    "print(\"\\nAccuracy %: \")\n",
    "print(accuracy_score(y_test, y_pred)*100)\n",
    "\n",
    "print(\"\\nClassification Report:\")\n",
    "print(classification_report(y_test, y_pred))                                                  #(tn, fp, fn, tp)\n",
    "\n",
    "print(\"\\nROC AUC Score: \")\n",
    "print(roc_auc_score(y_test, y_pred))\n",
    "\n",
    "print(\"\\nF1 Score: \")\n",
    "print(f1_score(y_test, y_pred))\n",
    "\n",
    "print(\"\\nSensitivity : \")\n",
    "print(float(cm[1][1]) / (cm[1][0]+cm[1][1]))\n",
    "\n",
    "print(\"\\nSpecificity : \")\n",
    "print(float(cm[0][0]) / (cm[0][0]+cm[0][1])) \n",
    "\n",
    "## Accuracy using classifier function\n",
    "print(\"\\nTraining Accuracy : \")\n",
    "print(logitClassifier.score(X_train, y_train, sample_weight=None))\n",
    "print(\"\\nTesting Accuracy : \")\n",
    "print(logitClassifier.score(X_test, y_test, sample_weight=None))      "
   ]
  },
  {
   "cell_type": "code",
   "execution_count": 44,
   "metadata": {},
   "outputs": [
    {
     "name": "stdout",
     "output_type": "stream",
     "text": [
      "Model Evaluation based on Recall\n",
      "\n",
      "[LR] Mean: 0.88442857 Std. Dev.: 0.008365\n",
      "\n",
      "[LDA] Mean: 0.96428571 Std. Dev.: 0.006791\n",
      "\n",
      "[KNN] Mean: 0.98400000 Std. Dev.: 0.003369\n",
      "\n",
      "[CART] Mean: 0.97328571 Std. Dev.: 0.003617\n",
      "\n",
      "[NB] Mean: 0.93442857 Std. Dev.: 0.008677\n",
      "\n",
      "[SVM] Mean: 0.98485714 Std. Dev.: 0.003393\n"
     ]
    }
   ],
   "source": [
    "### K fold validation\n",
    "\n",
    "from sklearn import model_selection\n",
    "from sklearn.linear_model import LogisticRegression\n",
    "from sklearn.tree import DecisionTreeClassifier\n",
    "from sklearn.neighbors import KNeighborsClassifier\n",
    "from sklearn.discriminant_analysis import LinearDiscriminantAnalysis\n",
    "from sklearn.naive_bayes import GaussianNB\n",
    "from sklearn.svm import SVC\n",
    "\n",
    "# prepare configuration for cross validation test harness\n",
    "seed = 7\n",
    "# prepare models\n",
    "models = []\n",
    "models.append(('LR', LogisticRegression(class_weight = 'balanced')))\n",
    "models.append(('LDA', LinearDiscriminantAnalysis()))\n",
    "models.append(('KNN', KNeighborsClassifier()))\n",
    "models.append(('CART', DecisionTreeClassifier()))\n",
    "models.append(('NB', GaussianNB()))\n",
    "models.append(('SVM', SVC()))\n",
    "\n",
    "# evaluate each model in turn for recall\n",
    "results = []\n",
    "names = []\n",
    "scoring = 'accuracy'\n",
    "print(\"Model Evaluation based on Recall\")\n",
    "for name, model in models:\n",
    "    kfold = model_selection.KFold(n_splits=10, random_state=seed)\n",
    "    cv_results = model_selection.cross_val_score(model, X_train, y_train, cv=kfold, scoring=scoring)\n",
    "    results.append(cv_results)\n",
    "    names.append(name)\n",
    "    print(\"\\n[%s] Mean: %.8f Std. Dev.: %8f\" %(name, cv_results.mean(), cv_results.std()))"
   ]
  },
  {
   "cell_type": "code",
   "execution_count": 45,
   "metadata": {},
   "outputs": [
    {
     "name": "stdout",
     "output_type": "stream",
     "text": [
      "\n",
      "Model Evaluation based on F1 score\n",
      "\n",
      "[LR] Mean: 0.15461034 Std. Dev.: 0.025330\n",
      "\n",
      "[LDA] Mean: 0.26137133 Std. Dev.: 0.086590\n"
     ]
    },
    {
     "name": "stderr",
     "output_type": "stream",
     "text": [
      "C:\\Users\\prita\\Anaconda3\\lib\\site-packages\\sklearn\\metrics\\classification.py:1135: UndefinedMetricWarning: F-score is ill-defined and being set to 0.0 due to no predicted samples.\n",
      "  'precision', 'predicted', average, warn_for)\n",
      "C:\\Users\\prita\\Anaconda3\\lib\\site-packages\\sklearn\\metrics\\classification.py:1135: UndefinedMetricWarning: F-score is ill-defined and being set to 0.0 due to no predicted samples.\n",
      "  'precision', 'predicted', average, warn_for)\n",
      "C:\\Users\\prita\\Anaconda3\\lib\\site-packages\\sklearn\\metrics\\classification.py:1135: UndefinedMetricWarning: F-score is ill-defined and being set to 0.0 due to no predicted samples.\n",
      "  'precision', 'predicted', average, warn_for)\n",
      "C:\\Users\\prita\\Anaconda3\\lib\\site-packages\\sklearn\\metrics\\classification.py:1135: UndefinedMetricWarning: F-score is ill-defined and being set to 0.0 due to no predicted samples.\n",
      "  'precision', 'predicted', average, warn_for)\n"
     ]
    },
    {
     "name": "stdout",
     "output_type": "stream",
     "text": [
      "\n",
      "[KNN] Mean: 0.02361111 Std. Dev.: 0.047324\n",
      "\n",
      "[CART] Mean: 0.17291511 Std. Dev.: 0.120660\n",
      "\n",
      "[NB] Mean: 0.18418630 Std. Dev.: 0.053776\n"
     ]
    },
    {
     "name": "stderr",
     "output_type": "stream",
     "text": [
      "C:\\Users\\prita\\Anaconda3\\lib\\site-packages\\sklearn\\metrics\\classification.py:1135: UndefinedMetricWarning: F-score is ill-defined and being set to 0.0 due to no predicted samples.\n",
      "  'precision', 'predicted', average, warn_for)\n",
      "C:\\Users\\prita\\Anaconda3\\lib\\site-packages\\sklearn\\metrics\\classification.py:1135: UndefinedMetricWarning: F-score is ill-defined and being set to 0.0 due to no predicted samples.\n",
      "  'precision', 'predicted', average, warn_for)\n",
      "C:\\Users\\prita\\Anaconda3\\lib\\site-packages\\sklearn\\metrics\\classification.py:1135: UndefinedMetricWarning: F-score is ill-defined and being set to 0.0 due to no predicted samples.\n",
      "  'precision', 'predicted', average, warn_for)\n",
      "C:\\Users\\prita\\Anaconda3\\lib\\site-packages\\sklearn\\metrics\\classification.py:1135: UndefinedMetricWarning: F-score is ill-defined and being set to 0.0 due to no predicted samples.\n",
      "  'precision', 'predicted', average, warn_for)\n",
      "C:\\Users\\prita\\Anaconda3\\lib\\site-packages\\sklearn\\metrics\\classification.py:1135: UndefinedMetricWarning: F-score is ill-defined and being set to 0.0 due to no predicted samples.\n",
      "  'precision', 'predicted', average, warn_for)\n",
      "C:\\Users\\prita\\Anaconda3\\lib\\site-packages\\sklearn\\metrics\\classification.py:1135: UndefinedMetricWarning: F-score is ill-defined and being set to 0.0 due to no predicted samples.\n",
      "  'precision', 'predicted', average, warn_for)\n",
      "C:\\Users\\prita\\Anaconda3\\lib\\site-packages\\sklearn\\metrics\\classification.py:1135: UndefinedMetricWarning: F-score is ill-defined and being set to 0.0 due to no predicted samples.\n",
      "  'precision', 'predicted', average, warn_for)\n",
      "C:\\Users\\prita\\Anaconda3\\lib\\site-packages\\sklearn\\metrics\\classification.py:1135: UndefinedMetricWarning: F-score is ill-defined and being set to 0.0 due to no predicted samples.\n",
      "  'precision', 'predicted', average, warn_for)\n",
      "C:\\Users\\prita\\Anaconda3\\lib\\site-packages\\sklearn\\metrics\\classification.py:1135: UndefinedMetricWarning: F-score is ill-defined and being set to 0.0 due to no predicted samples.\n",
      "  'precision', 'predicted', average, warn_for)\n"
     ]
    },
    {
     "name": "stdout",
     "output_type": "stream",
     "text": [
      "\n",
      "[SVM] Mean: 0.00000000 Std. Dev.: 0.000000\n"
     ]
    },
    {
     "name": "stderr",
     "output_type": "stream",
     "text": [
      "C:\\Users\\prita\\Anaconda3\\lib\\site-packages\\sklearn\\metrics\\classification.py:1135: UndefinedMetricWarning: F-score is ill-defined and being set to 0.0 due to no predicted samples.\n",
      "  'precision', 'predicted', average, warn_for)\n"
     ]
    }
   ],
   "source": [
    "# evaluate each model in turn for F1 score\n",
    "results = []\n",
    "names = []\n",
    "scoring = 'f1'\n",
    "print(\"\\nModel Evaluation based on F1 score\")\n",
    "for name, model in models:\n",
    "    kfold = model_selection.KFold(n_splits=10, random_state=seed)\n",
    "    cv_results = model_selection.cross_val_score(model, X_train, y_train, cv=kfold, scoring=scoring)\n",
    "    results.append(cv_results)\n",
    "    names.append(name)\n",
    "    print(\"\\n[%s] Mean: %.8f Std. Dev.: %8f\" %(name, cv_results.mean(), cv_results.std()))"
   ]
  },
  {
   "cell_type": "markdown",
   "metadata": {},
   "source": [
    "Ok, So from results we see that Naive bayes and logistic regression analysis are working pretty well in classifing  VIP cumstomer. So I will choose Naive bayes for futher training and prediction as F1 score is better for Naive bayes."
   ]
  },
  {
   "cell_type": "code",
   "execution_count": 46,
   "metadata": {},
   "outputs": [
    {
     "name": "stdout",
     "output_type": "stream",
     "text": [
      "['fit_time', 'score_time', 'test_recall']\n",
      "\n",
      "Scores for GaussianNB Kfold 10 : \n",
      "{'fit_time': array([0.00532222, 0.00199366, 0.00299811, 0.00400853, 0.00399494,\n",
      "       0.00580788, 0.        , 0.00506067, 0.004004  , 0.00404286]), 'score_time': array([0.0011158 , 0.        , 0.        , 0.        , 0.        ,\n",
      "       0.        , 0.        , 0.        , 0.00399518, 0.00099802]), 'test_recall': array([0.54545455, 0.54545455, 0.18181818, 0.45454545, 0.45454545,\n",
      "       0.81818182, 0.4       , 0.2       , 0.6       , 0.5       ])}\n",
      "\n",
      "Predictions time: 0.0 s\n",
      "\n",
      "Confusion matrix after prediction\n",
      "[[2767  185]\n",
      " [  20   29]]\n",
      "\n",
      "Accuracy %: \n",
      "93.1689436854382\n",
      "\n",
      "Classification Report:\n",
      "             precision    recall  f1-score   support\n",
      "\n",
      "          0       0.99      0.94      0.96      2952\n",
      "          1       0.14      0.59      0.22        49\n",
      "\n",
      "avg / total       0.98      0.93      0.95      3001\n",
      "\n",
      "\n",
      "ROC AUC Score: \n",
      "0.7645836790000553\n",
      "\n",
      "F1 Score: \n",
      "0.22053231939163498\n",
      "\n",
      "Sensitivity : \n",
      "0.5918367346938775\n",
      "\n",
      "Specificity : \n",
      "0.9373306233062331\n",
      "\n",
      "Training Accuracy : \n",
      "0.9352857142857143\n",
      "\n",
      "Testing Accuracy : \n",
      "0.9316894368543819\n"
     ]
    }
   ],
   "source": [
    "from sklearn.model_selection import cross_validate\n",
    "from sklearn.metrics import recall_score\n",
    "from sklearn import svm\n",
    "\n",
    "scoring = ['recall']\n",
    "clf = GaussianNB()\n",
    "scores = cross_validate(clf, X_train, y_train, scoring=scoring, cv=10, return_train_score=False)\n",
    "print(sorted(scores.keys()))\n",
    "print(\"\\nScores for GaussianNB Kfold 10 : \")\n",
    "print(scores)                    \n",
    "\n",
    "clf.fit(X_train, y_train)\n",
    "t0=time()\n",
    "y_pred = clf.predict(X_test)\n",
    "\n",
    "print(\"\\nPredictions time:\", round(time()-t0, 3), \"s\")\n",
    "print(\"\\nConfusion matrix after prediction\")\n",
    "cm = confusion_matrix(y_test, y_pred)\n",
    "print(cm)\n",
    "\n",
    "print(\"\\nAccuracy %: \")\n",
    "print(accuracy_score(y_test, y_pred)*100)\n",
    "\n",
    "print(\"\\nClassification Report:\")\n",
    "print(classification_report(y_test, y_pred))                                                  #(tn, fp, fn, tp)\n",
    "\n",
    "print(\"\\nROC AUC Score: \")\n",
    "print(roc_auc_score(y_test, y_pred))\n",
    "\n",
    "print(\"\\nF1 Score: \")\n",
    "print(f1_score(y_test, y_pred))\n",
    "\n",
    "print(\"\\nSensitivity : \")\n",
    "print(float(cm[1][1]) / (cm[1][0]+cm[1][1]))\n",
    "\n",
    "print(\"\\nSpecificity : \")\n",
    "print(float(cm[0][0]) / (cm[0][0]+cm[0][1])) \n",
    "\n",
    "## Accuracy using classifier function\n",
    "print(\"\\nTraining Accuracy : \")\n",
    "print(clf.score(X_train, y_train, sample_weight=None))\n",
    "print(\"\\nTesting Accuracy : \")\n",
    "print(clf.score(X_test, y_test, sample_weight=None))  "
   ]
  },
  {
   "cell_type": "markdown",
   "metadata": {},
   "source": [
    "So, Naive Bayes classfier worked well in this case of imbalanced data classfication. \n",
    "The Racall or sensitivity is improved in this algorithm to 59%.  Also the training and testing accuracy are close to 98% \n",
    "indicates that model is not overfitted."
   ]
  },
  {
   "cell_type": "markdown",
   "metadata": {},
   "source": [
    "###### Implementing Some UnderSampling and Over Sampling techniques\n",
    "Random Undersampling aims to balance class distribution by randomly eliminating majority class examples. \n",
    "Over-Sampling increases the number of instances in the minority class by randomly replicating them in order to present a higher representation of the minority class in the sample.\n",
    "Since the the dataset is highly imbalanced, lets apply these two techniques for any further improvement."
   ]
  },
  {
   "cell_type": "code",
   "execution_count": 47,
   "metadata": {
    "collapsed": true
   },
   "outputs": [],
   "source": [
    "# Apply the random under-sampling\n",
    "from imblearn.under_sampling import RandomUnderSampler\n",
    "\n",
    "rus = RandomUnderSampler(return_indices=True)\n",
    "X_resampled, y_resampled, idx_resampled = rus.fit_sample(X, y)"
   ]
  },
  {
   "cell_type": "code",
   "execution_count": 48,
   "metadata": {},
   "outputs": [
    {
     "name": "stdout",
     "output_type": "stream",
     "text": [
      "Size of Training Dataset - features\n",
      "(217, 9)\n",
      "\n",
      "Size of Testing Dataset - features\n",
      "(93, 9)\n",
      "\n",
      "Size of Training Dataset - target\n",
      "(217,)\n",
      "\n",
      "Size of Testing Dataset - target\n",
      "(93,)\n"
     ]
    },
    {
     "data": {
      "text/plain": [
       "array([0, 0, 0, 0, 0, 0, 0, 0, 0, 0, 0, 0, 0, 0, 0, 0, 0, 0, 0, 0, 0, 0,\n",
       "       0, 0, 0, 0, 0, 0, 0, 0, 0, 0, 0, 0, 0, 0, 0, 0, 0, 0, 0, 0, 0, 0,\n",
       "       0, 0, 0, 0, 0, 0, 0, 0, 0, 0, 0, 0, 0, 0, 0, 0, 0, 0, 0, 0, 0, 0,\n",
       "       0, 0, 0, 0, 0, 0, 0, 0, 0, 0, 0, 0, 0, 0, 0, 0, 0, 0, 0, 0, 0, 0,\n",
       "       0, 0, 0, 0, 0, 0, 0, 0, 0, 0, 0, 0, 0, 0, 0, 0, 0, 0, 0, 0, 0, 0,\n",
       "       0, 0, 0, 0, 0, 0, 0, 0, 0, 0, 0, 0, 0, 0, 0, 0, 0, 0, 0, 0, 0, 0,\n",
       "       0, 0, 0, 0, 0, 0, 0, 0, 0, 0, 0, 0, 0, 0, 0, 0, 0, 0, 0, 0, 0, 0,\n",
       "       0, 1, 1, 1, 1, 1, 1, 1, 1, 1, 1, 1, 1, 1, 1, 1, 1, 1, 1, 1, 1, 1,\n",
       "       1, 1, 1, 1, 1, 1, 1, 1, 1, 1, 1, 1, 1, 1, 1, 1, 1, 1, 1, 1, 1, 1,\n",
       "       1, 1, 1, 1, 1, 1, 1, 1, 1, 1, 1, 1, 1, 1, 1, 1, 1, 1, 1, 1, 1, 1,\n",
       "       1, 1, 1, 1, 1, 1, 1, 1, 1, 1, 1, 1, 1, 1, 1, 1, 1, 1, 1, 1, 1, 1,\n",
       "       1, 1, 1, 1, 1, 1, 1, 1, 1, 1, 1, 1, 1, 1, 1, 1, 1, 1, 1, 1, 1, 1,\n",
       "       1, 1, 1, 1, 1, 1, 1, 1, 1, 1, 1, 1, 1, 1, 1, 1, 1, 1, 1, 1, 1, 1,\n",
       "       1, 1, 1, 1, 1, 1, 1, 1, 1, 1, 1, 1, 1, 1, 1, 1, 1, 1, 1, 1, 1, 1,\n",
       "       1, 1], dtype=int64)"
      ]
     },
     "execution_count": 48,
     "metadata": {},
     "output_type": "execute_result"
    }
   ],
   "source": [
    "X_train, X_test, y_train, y_test = train_test_split(X_resampled, y_resampled, test_size = 0.30, random_state = seed)\n",
    "\n",
    "print(\"Size of Training Dataset - features\")\n",
    "print(X_train.shape)                                                           ## count for X_train\n",
    "print(\"\\nSize of Testing Dataset - features\")\n",
    "print(X_test.shape)                                                            ## count for X_test\n",
    "\n",
    "print(\"\\nSize of Training Dataset - target\")\n",
    "print(y_train.shape)                                                        ## count for y_train\n",
    "print(\"\\nSize of Testing Dataset - target\")\n",
    "print(y_test.shape)\n",
    "\n",
    "y_resampled"
   ]
  },
  {
   "cell_type": "code",
   "execution_count": 52,
   "metadata": {},
   "outputs": [
    {
     "name": "stdout",
     "output_type": "stream",
     "text": [
      "\n",
      "Results in Under-Sampled dataset\n",
      "\n",
      "Predictions time: 0.0 s\n",
      "\n",
      "Confusion matrix after prediction\n",
      "[[1656  154]\n",
      " [ 542 1477]]\n",
      "\n",
      "Accuracy on Test %: \n",
      "81.82293026899974\n",
      "\n",
      "Classification Report:\n",
      "             precision    recall  f1-score   support\n",
      "\n",
      "          0       0.75      0.91      0.83      1810\n",
      "          1       0.91      0.73      0.81      2019\n",
      "\n",
      "avg / total       0.83      0.82      0.82      3829\n",
      "\n",
      "\n",
      "ROC AUC Score: \n",
      "0.8232336997419543\n",
      "\n",
      "F1 Score: \n",
      "0.8093150684931507\n",
      "\n",
      "Sensitivity : \n",
      "0.7315502724120851\n",
      "\n",
      "Specificity : \n",
      "0.9149171270718232\n"
     ]
    }
   ],
   "source": [
    "# Apply Naive Bayes on undersampled dataset\n",
    "\n",
    "scoring = ['recall']\n",
    "clf = GaussianNB()\n",
    "scores = cross_validate(clf, X_train, y_train, scoring=scoring, cv=10, return_train_score=False)\n",
    "                  \n",
    "clf.fit(X_train, y_train)\n",
    "t0=time()\n",
    "y_pred = clf.predict(X_test)\n",
    "\n",
    "print(\"\\nResults in Under-Sampled dataset\")\n",
    "print(\"\\nPredictions time:\", round(time()-t0, 3), \"s\")\n",
    "print(\"\\nConfusion matrix after prediction\")\n",
    "cm = confusion_matrix(y_test, y_pred)\n",
    "print(cm)\n",
    "\n",
    "print(\"\\nAccuracy on Test %: \")\n",
    "print(accuracy_score(y_test, y_pred)*100)\n",
    "\n",
    "print(\"\\nClassification Report:\")\n",
    "print(classification_report(y_test, y_pred))                                                  #(tn, fp, fn, tp)\n",
    "\n",
    "print(\"\\nROC AUC Score: \")\n",
    "print(roc_auc_score(y_test, y_pred))\n",
    "\n",
    "print(\"\\nF1 Score: \")\n",
    "print(f1_score(y_test, y_pred))\n",
    "\n",
    "print(\"\\nSensitivity : \")\n",
    "print(float(cm[1][1]) / (cm[1][0]+cm[1][1]))\n",
    "\n",
    "print(\"\\nSpecificity : \")\n",
    "print(float(cm[0][0]) / (cm[0][0]+cm[0][1])) \n"
   ]
  },
  {
   "cell_type": "markdown",
   "metadata": {},
   "source": [
    "As we can see now the F1 score is improved, precision is 0.91 and recall is 0.73 which is really good."
   ]
  },
  {
   "cell_type": "code",
   "execution_count": 50,
   "metadata": {},
   "outputs": [
    {
     "name": "stdout",
     "output_type": "stream",
     "text": [
      "Size of Training Dataset - features\n",
      "(8934, 9)\n",
      "\n",
      "Size of Testing Dataset - features\n",
      "(3829, 9)\n",
      "\n",
      "Size of Training Dataset - target\n",
      "(8934,)\n",
      "\n",
      "Size of Testing Dataset - target\n",
      "(3829,)\n"
     ]
    },
    {
     "data": {
      "text/plain": [
       "array([0, 0, 0, ..., 1, 1, 1], dtype=int64)"
      ]
     },
     "execution_count": 50,
     "metadata": {},
     "output_type": "execute_result"
    }
   ],
   "source": [
    "# Over Sampling SMOTE\n",
    "#Combine methods mixed over- and under-sampling methods. \n",
    "#Generally SMOTE is used for over-sampling while some cleaning methods (i.e., ENN and Tomek links) are used to under-sample.\n",
    "\n",
    "from imblearn.combine import SMOTEENN\n",
    "\n",
    "sm = SMOTEENN()\n",
    "X_resampled, y_resampled = sm.fit_sample(X, y)\n",
    "\n",
    "X_train, X_test, y_train, y_test = train_test_split(X_resampled, y_resampled, test_size = 0.30, random_state = seed)\n",
    "\n",
    "print(\"Size of Training Dataset - features\")\n",
    "print(X_train.shape)                                                           ## count for X_train\n",
    "print(\"\\nSize of Testing Dataset - features\")\n",
    "print(X_test.shape)                                                            ## count for X_test\n",
    "\n",
    "print(\"\\nSize of Training Dataset - target\")\n",
    "print(y_train.shape)                                                        ## count for y_train\n",
    "print(\"\\nSize of Testing Dataset - target\")\n",
    "print(y_test.shape)\n",
    "\n",
    "y_resampled"
   ]
  },
  {
   "cell_type": "code",
   "execution_count": 51,
   "metadata": {},
   "outputs": [
    {
     "name": "stdout",
     "output_type": "stream",
     "text": [
      "\n",
      "Results in Over-Sampled dataset\n",
      "\n",
      "Predictions time: 0.002 s\n",
      "\n",
      "Confusion matrix after prediction\n",
      "[[1656  154]\n",
      " [ 542 1477]]\n",
      "\n",
      "Accuracy on Test %: \n",
      "81.82293026899974\n",
      "\n",
      "Classification Report:\n",
      "             precision    recall  f1-score   support\n",
      "\n",
      "          0       0.75      0.91      0.83      1810\n",
      "          1       0.91      0.73      0.81      2019\n",
      "\n",
      "avg / total       0.83      0.82      0.82      3829\n",
      "\n",
      "\n",
      "ROC AUC Score: \n",
      "0.8232336997419543\n",
      "\n",
      "F1 Score: \n",
      "0.8093150684931507\n",
      "\n",
      "Sensitivity : \n",
      "0.7315502724120851\n",
      "\n",
      "Specificity : \n",
      "0.9149171270718232\n"
     ]
    }
   ],
   "source": [
    "scoring = ['recall']\n",
    "clf = GaussianNB()\n",
    "scores = cross_validate(clf, X_train, y_train, scoring=scoring, cv=10, return_train_score=False)                   \n",
    "\n",
    "clf.fit(X_train, y_train)\n",
    "t0=time()\n",
    "y_pred = clf.predict(X_test)\n",
    "\n",
    "print(\"\\nResults in Over-Sampled dataset\")\n",
    "print(\"\\nPredictions time:\", round(time()-t0, 3), \"s\")\n",
    "print(\"\\nConfusion matrix after prediction\")\n",
    "cm = confusion_matrix(y_test, y_pred)\n",
    "print(cm)\n",
    "\n",
    "print(\"\\nAccuracy on Test %: \")\n",
    "print(accuracy_score(y_test, y_pred)*100)\n",
    "\n",
    "print(\"\\nClassification Report:\")\n",
    "print(classification_report(y_test, y_pred))                                                  #(tn, fp, fn, tp)\n",
    "\n",
    "print(\"\\nROC AUC Score: \")\n",
    "print(roc_auc_score(y_test, y_pred))\n",
    "\n",
    "print(\"\\nF1 Score: \")\n",
    "print(f1_score(y_test, y_pred))\n",
    "\n",
    "print(\"\\nSensitivity : \")\n",
    "print(float(cm[1][1]) / (cm[1][0]+cm[1][1]))\n",
    "\n",
    "print(\"\\nSpecificity : \")\n",
    "print(float(cm[0][0]) / (cm[0][0]+cm[0][1])) "
   ]
  },
  {
   "cell_type": "markdown",
   "metadata": {},
   "source": [
    "With OverSampling the F1 score is improved to 0.80 , precision is 0.91 and recall is 0.73 which is really good.\n",
    "I would suggest Beta company to use this naive Bayes classfier to predict the future VIP customer to earn more business."
   ]
  },
  {
   "cell_type": "markdown",
   "metadata": {},
   "source": [
    "Along with under sampling and over sampling, I am also planning to implement xgboost to see if get better score so please stay tuned."
   ]
  }
 ],
 "metadata": {
  "kernelspec": {
   "display_name": "Python 3",
   "language": "python",
   "name": "python3"
  },
  "language_info": {
   "codemirror_mode": {
    "name": "ipython",
    "version": 3
   },
   "file_extension": ".py",
   "mimetype": "text/x-python",
   "name": "python",
   "nbconvert_exporter": "python",
   "pygments_lexer": "ipython3",
   "version": "3.6.3"
  }
 },
 "nbformat": 4,
 "nbformat_minor": 2
}
